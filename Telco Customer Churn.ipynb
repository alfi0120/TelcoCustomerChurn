{
 "cells": [
  {
   "cell_type": "code",
   "execution_count": 1,
   "id": "09a79a70",
   "metadata": {},
   "outputs": [],
   "source": [
    "import numpy as np\n",
    "import pandas as pd\n",
    "\n",
    "import matplotlib.pyplot as plt\n",
    "%matplotlib inline\n",
    "import seaborn as sns\n",
    "\n",
    "from sklearn.preprocessing import LabelEncoder\n",
    "from sklearn.model_selection import train_test_split, StratifiedKFold, RandomizedSearchCV\n",
    "from sklearn.metrics import accuracy_score, confusion_matrix, classification_report, roc_auc_score, f1_score, recall_score, precision_score\n",
    "from sklearn.preprocessing import MinMaxScaler,StandardScaler\n",
    "from sklearn.compose import ColumnTransformer\n",
    "from sklearn.linear_model import LogisticRegression\n",
    "from sklearn.ensemble import RandomForestClassifier\n",
    "from sklearn.pipeline import Pipeline\n",
    "from xgboost import XGBClassifier\n",
    "\n",
    "import imblearn\n",
    "from imblearn.over_sampling import SMOTE\n",
    "from imblearn.pipeline import Pipeline as imbpipeline"
   ]
  },
  {
   "cell_type": "code",
   "execution_count": 2,
   "id": "71ed8137",
   "metadata": {},
   "outputs": [
    {
     "data": {
      "text/html": [
       "<div>\n",
       "<style scoped>\n",
       "    .dataframe tbody tr th:only-of-type {\n",
       "        vertical-align: middle;\n",
       "    }\n",
       "\n",
       "    .dataframe tbody tr th {\n",
       "        vertical-align: top;\n",
       "    }\n",
       "\n",
       "    .dataframe thead th {\n",
       "        text-align: right;\n",
       "    }\n",
       "</style>\n",
       "<table border=\"1\" class=\"dataframe\">\n",
       "  <thead>\n",
       "    <tr style=\"text-align: right;\">\n",
       "      <th></th>\n",
       "      <th>customerID</th>\n",
       "      <th>gender</th>\n",
       "      <th>SeniorCitizen</th>\n",
       "      <th>Partner</th>\n",
       "      <th>Dependents</th>\n",
       "      <th>tenure</th>\n",
       "      <th>PhoneService</th>\n",
       "      <th>MultipleLines</th>\n",
       "      <th>InternetService</th>\n",
       "      <th>OnlineSecurity</th>\n",
       "      <th>...</th>\n",
       "      <th>DeviceProtection</th>\n",
       "      <th>TechSupport</th>\n",
       "      <th>StreamingTV</th>\n",
       "      <th>StreamingMovies</th>\n",
       "      <th>Contract</th>\n",
       "      <th>PaperlessBilling</th>\n",
       "      <th>PaymentMethod</th>\n",
       "      <th>MonthlyCharges</th>\n",
       "      <th>TotalCharges</th>\n",
       "      <th>Churn</th>\n",
       "    </tr>\n",
       "  </thead>\n",
       "  <tbody>\n",
       "    <tr>\n",
       "      <th>0</th>\n",
       "      <td>7590-VHVEG</td>\n",
       "      <td>Female</td>\n",
       "      <td>0</td>\n",
       "      <td>Yes</td>\n",
       "      <td>No</td>\n",
       "      <td>1</td>\n",
       "      <td>No</td>\n",
       "      <td>No phone service</td>\n",
       "      <td>DSL</td>\n",
       "      <td>No</td>\n",
       "      <td>...</td>\n",
       "      <td>No</td>\n",
       "      <td>No</td>\n",
       "      <td>No</td>\n",
       "      <td>No</td>\n",
       "      <td>Month-to-month</td>\n",
       "      <td>Yes</td>\n",
       "      <td>Electronic check</td>\n",
       "      <td>29.85</td>\n",
       "      <td>29.85</td>\n",
       "      <td>No</td>\n",
       "    </tr>\n",
       "    <tr>\n",
       "      <th>1</th>\n",
       "      <td>5575-GNVDE</td>\n",
       "      <td>Male</td>\n",
       "      <td>0</td>\n",
       "      <td>No</td>\n",
       "      <td>No</td>\n",
       "      <td>34</td>\n",
       "      <td>Yes</td>\n",
       "      <td>No</td>\n",
       "      <td>DSL</td>\n",
       "      <td>Yes</td>\n",
       "      <td>...</td>\n",
       "      <td>Yes</td>\n",
       "      <td>No</td>\n",
       "      <td>No</td>\n",
       "      <td>No</td>\n",
       "      <td>One year</td>\n",
       "      <td>No</td>\n",
       "      <td>Mailed check</td>\n",
       "      <td>56.95</td>\n",
       "      <td>1889.5</td>\n",
       "      <td>No</td>\n",
       "    </tr>\n",
       "    <tr>\n",
       "      <th>2</th>\n",
       "      <td>3668-QPYBK</td>\n",
       "      <td>Male</td>\n",
       "      <td>0</td>\n",
       "      <td>No</td>\n",
       "      <td>No</td>\n",
       "      <td>2</td>\n",
       "      <td>Yes</td>\n",
       "      <td>No</td>\n",
       "      <td>DSL</td>\n",
       "      <td>Yes</td>\n",
       "      <td>...</td>\n",
       "      <td>No</td>\n",
       "      <td>No</td>\n",
       "      <td>No</td>\n",
       "      <td>No</td>\n",
       "      <td>Month-to-month</td>\n",
       "      <td>Yes</td>\n",
       "      <td>Mailed check</td>\n",
       "      <td>53.85</td>\n",
       "      <td>108.15</td>\n",
       "      <td>Yes</td>\n",
       "    </tr>\n",
       "    <tr>\n",
       "      <th>3</th>\n",
       "      <td>7795-CFOCW</td>\n",
       "      <td>Male</td>\n",
       "      <td>0</td>\n",
       "      <td>No</td>\n",
       "      <td>No</td>\n",
       "      <td>45</td>\n",
       "      <td>No</td>\n",
       "      <td>No phone service</td>\n",
       "      <td>DSL</td>\n",
       "      <td>Yes</td>\n",
       "      <td>...</td>\n",
       "      <td>Yes</td>\n",
       "      <td>Yes</td>\n",
       "      <td>No</td>\n",
       "      <td>No</td>\n",
       "      <td>One year</td>\n",
       "      <td>No</td>\n",
       "      <td>Bank transfer (automatic)</td>\n",
       "      <td>42.30</td>\n",
       "      <td>1840.75</td>\n",
       "      <td>No</td>\n",
       "    </tr>\n",
       "    <tr>\n",
       "      <th>4</th>\n",
       "      <td>9237-HQITU</td>\n",
       "      <td>Female</td>\n",
       "      <td>0</td>\n",
       "      <td>No</td>\n",
       "      <td>No</td>\n",
       "      <td>2</td>\n",
       "      <td>Yes</td>\n",
       "      <td>No</td>\n",
       "      <td>Fiber optic</td>\n",
       "      <td>No</td>\n",
       "      <td>...</td>\n",
       "      <td>No</td>\n",
       "      <td>No</td>\n",
       "      <td>No</td>\n",
       "      <td>No</td>\n",
       "      <td>Month-to-month</td>\n",
       "      <td>Yes</td>\n",
       "      <td>Electronic check</td>\n",
       "      <td>70.70</td>\n",
       "      <td>151.65</td>\n",
       "      <td>Yes</td>\n",
       "    </tr>\n",
       "    <tr>\n",
       "      <th>...</th>\n",
       "      <td>...</td>\n",
       "      <td>...</td>\n",
       "      <td>...</td>\n",
       "      <td>...</td>\n",
       "      <td>...</td>\n",
       "      <td>...</td>\n",
       "      <td>...</td>\n",
       "      <td>...</td>\n",
       "      <td>...</td>\n",
       "      <td>...</td>\n",
       "      <td>...</td>\n",
       "      <td>...</td>\n",
       "      <td>...</td>\n",
       "      <td>...</td>\n",
       "      <td>...</td>\n",
       "      <td>...</td>\n",
       "      <td>...</td>\n",
       "      <td>...</td>\n",
       "      <td>...</td>\n",
       "      <td>...</td>\n",
       "      <td>...</td>\n",
       "    </tr>\n",
       "    <tr>\n",
       "      <th>7038</th>\n",
       "      <td>6840-RESVB</td>\n",
       "      <td>Male</td>\n",
       "      <td>0</td>\n",
       "      <td>Yes</td>\n",
       "      <td>Yes</td>\n",
       "      <td>24</td>\n",
       "      <td>Yes</td>\n",
       "      <td>Yes</td>\n",
       "      <td>DSL</td>\n",
       "      <td>Yes</td>\n",
       "      <td>...</td>\n",
       "      <td>Yes</td>\n",
       "      <td>Yes</td>\n",
       "      <td>Yes</td>\n",
       "      <td>Yes</td>\n",
       "      <td>One year</td>\n",
       "      <td>Yes</td>\n",
       "      <td>Mailed check</td>\n",
       "      <td>84.80</td>\n",
       "      <td>1990.5</td>\n",
       "      <td>No</td>\n",
       "    </tr>\n",
       "    <tr>\n",
       "      <th>7039</th>\n",
       "      <td>2234-XADUH</td>\n",
       "      <td>Female</td>\n",
       "      <td>0</td>\n",
       "      <td>Yes</td>\n",
       "      <td>Yes</td>\n",
       "      <td>72</td>\n",
       "      <td>Yes</td>\n",
       "      <td>Yes</td>\n",
       "      <td>Fiber optic</td>\n",
       "      <td>No</td>\n",
       "      <td>...</td>\n",
       "      <td>Yes</td>\n",
       "      <td>No</td>\n",
       "      <td>Yes</td>\n",
       "      <td>Yes</td>\n",
       "      <td>One year</td>\n",
       "      <td>Yes</td>\n",
       "      <td>Credit card (automatic)</td>\n",
       "      <td>103.20</td>\n",
       "      <td>7362.9</td>\n",
       "      <td>No</td>\n",
       "    </tr>\n",
       "    <tr>\n",
       "      <th>7040</th>\n",
       "      <td>4801-JZAZL</td>\n",
       "      <td>Female</td>\n",
       "      <td>0</td>\n",
       "      <td>Yes</td>\n",
       "      <td>Yes</td>\n",
       "      <td>11</td>\n",
       "      <td>No</td>\n",
       "      <td>No phone service</td>\n",
       "      <td>DSL</td>\n",
       "      <td>Yes</td>\n",
       "      <td>...</td>\n",
       "      <td>No</td>\n",
       "      <td>No</td>\n",
       "      <td>No</td>\n",
       "      <td>No</td>\n",
       "      <td>Month-to-month</td>\n",
       "      <td>Yes</td>\n",
       "      <td>Electronic check</td>\n",
       "      <td>29.60</td>\n",
       "      <td>346.45</td>\n",
       "      <td>No</td>\n",
       "    </tr>\n",
       "    <tr>\n",
       "      <th>7041</th>\n",
       "      <td>8361-LTMKD</td>\n",
       "      <td>Male</td>\n",
       "      <td>1</td>\n",
       "      <td>Yes</td>\n",
       "      <td>No</td>\n",
       "      <td>4</td>\n",
       "      <td>Yes</td>\n",
       "      <td>Yes</td>\n",
       "      <td>Fiber optic</td>\n",
       "      <td>No</td>\n",
       "      <td>...</td>\n",
       "      <td>No</td>\n",
       "      <td>No</td>\n",
       "      <td>No</td>\n",
       "      <td>No</td>\n",
       "      <td>Month-to-month</td>\n",
       "      <td>Yes</td>\n",
       "      <td>Mailed check</td>\n",
       "      <td>74.40</td>\n",
       "      <td>306.6</td>\n",
       "      <td>Yes</td>\n",
       "    </tr>\n",
       "    <tr>\n",
       "      <th>7042</th>\n",
       "      <td>3186-AJIEK</td>\n",
       "      <td>Male</td>\n",
       "      <td>0</td>\n",
       "      <td>No</td>\n",
       "      <td>No</td>\n",
       "      <td>66</td>\n",
       "      <td>Yes</td>\n",
       "      <td>No</td>\n",
       "      <td>Fiber optic</td>\n",
       "      <td>Yes</td>\n",
       "      <td>...</td>\n",
       "      <td>Yes</td>\n",
       "      <td>Yes</td>\n",
       "      <td>Yes</td>\n",
       "      <td>Yes</td>\n",
       "      <td>Two year</td>\n",
       "      <td>Yes</td>\n",
       "      <td>Bank transfer (automatic)</td>\n",
       "      <td>105.65</td>\n",
       "      <td>6844.5</td>\n",
       "      <td>No</td>\n",
       "    </tr>\n",
       "  </tbody>\n",
       "</table>\n",
       "<p>7043 rows × 21 columns</p>\n",
       "</div>"
      ],
      "text/plain": [
       "      customerID  gender  SeniorCitizen Partner Dependents  tenure  \\\n",
       "0     7590-VHVEG  Female              0     Yes         No       1   \n",
       "1     5575-GNVDE    Male              0      No         No      34   \n",
       "2     3668-QPYBK    Male              0      No         No       2   \n",
       "3     7795-CFOCW    Male              0      No         No      45   \n",
       "4     9237-HQITU  Female              0      No         No       2   \n",
       "...          ...     ...            ...     ...        ...     ...   \n",
       "7038  6840-RESVB    Male              0     Yes        Yes      24   \n",
       "7039  2234-XADUH  Female              0     Yes        Yes      72   \n",
       "7040  4801-JZAZL  Female              0     Yes        Yes      11   \n",
       "7041  8361-LTMKD    Male              1     Yes         No       4   \n",
       "7042  3186-AJIEK    Male              0      No         No      66   \n",
       "\n",
       "     PhoneService     MultipleLines InternetService OnlineSecurity  ...  \\\n",
       "0              No  No phone service             DSL             No  ...   \n",
       "1             Yes                No             DSL            Yes  ...   \n",
       "2             Yes                No             DSL            Yes  ...   \n",
       "3              No  No phone service             DSL            Yes  ...   \n",
       "4             Yes                No     Fiber optic             No  ...   \n",
       "...           ...               ...             ...            ...  ...   \n",
       "7038          Yes               Yes             DSL            Yes  ...   \n",
       "7039          Yes               Yes     Fiber optic             No  ...   \n",
       "7040           No  No phone service             DSL            Yes  ...   \n",
       "7041          Yes               Yes     Fiber optic             No  ...   \n",
       "7042          Yes                No     Fiber optic            Yes  ...   \n",
       "\n",
       "     DeviceProtection TechSupport StreamingTV StreamingMovies        Contract  \\\n",
       "0                  No          No          No              No  Month-to-month   \n",
       "1                 Yes          No          No              No        One year   \n",
       "2                  No          No          No              No  Month-to-month   \n",
       "3                 Yes         Yes          No              No        One year   \n",
       "4                  No          No          No              No  Month-to-month   \n",
       "...               ...         ...         ...             ...             ...   \n",
       "7038              Yes         Yes         Yes             Yes        One year   \n",
       "7039              Yes          No         Yes             Yes        One year   \n",
       "7040               No          No          No              No  Month-to-month   \n",
       "7041               No          No          No              No  Month-to-month   \n",
       "7042              Yes         Yes         Yes             Yes        Two year   \n",
       "\n",
       "     PaperlessBilling              PaymentMethod MonthlyCharges  TotalCharges  \\\n",
       "0                 Yes           Electronic check          29.85         29.85   \n",
       "1                  No               Mailed check          56.95        1889.5   \n",
       "2                 Yes               Mailed check          53.85        108.15   \n",
       "3                  No  Bank transfer (automatic)          42.30       1840.75   \n",
       "4                 Yes           Electronic check          70.70        151.65   \n",
       "...               ...                        ...            ...           ...   \n",
       "7038              Yes               Mailed check          84.80        1990.5   \n",
       "7039              Yes    Credit card (automatic)         103.20        7362.9   \n",
       "7040              Yes           Electronic check          29.60        346.45   \n",
       "7041              Yes               Mailed check          74.40         306.6   \n",
       "7042              Yes  Bank transfer (automatic)         105.65        6844.5   \n",
       "\n",
       "     Churn  \n",
       "0       No  \n",
       "1       No  \n",
       "2      Yes  \n",
       "3       No  \n",
       "4      Yes  \n",
       "...    ...  \n",
       "7038    No  \n",
       "7039    No  \n",
       "7040    No  \n",
       "7041   Yes  \n",
       "7042    No  \n",
       "\n",
       "[7043 rows x 21 columns]"
      ]
     },
     "execution_count": 2,
     "metadata": {},
     "output_type": "execute_result"
    }
   ],
   "source": [
    "df = pd.read_csv('WA_Fn-UseC_-Telco-Customer-Churn.csv')\n",
    "\n",
    "df"
   ]
  },
  {
   "cell_type": "code",
   "execution_count": 3,
   "id": "72ef8ca2",
   "metadata": {},
   "outputs": [
    {
     "name": "stdout",
     "output_type": "stream",
     "text": [
      "<class 'pandas.core.frame.DataFrame'>\n",
      "RangeIndex: 7043 entries, 0 to 7042\n",
      "Data columns (total 21 columns):\n",
      " #   Column            Non-Null Count  Dtype  \n",
      "---  ------            --------------  -----  \n",
      " 0   customerID        7043 non-null   object \n",
      " 1   gender            7043 non-null   object \n",
      " 2   SeniorCitizen     7043 non-null   int64  \n",
      " 3   Partner           7043 non-null   object \n",
      " 4   Dependents        7043 non-null   object \n",
      " 5   tenure            7043 non-null   int64  \n",
      " 6   PhoneService      7043 non-null   object \n",
      " 7   MultipleLines     7043 non-null   object \n",
      " 8   InternetService   7043 non-null   object \n",
      " 9   OnlineSecurity    7043 non-null   object \n",
      " 10  OnlineBackup      7043 non-null   object \n",
      " 11  DeviceProtection  7043 non-null   object \n",
      " 12  TechSupport       7043 non-null   object \n",
      " 13  StreamingTV       7043 non-null   object \n",
      " 14  StreamingMovies   7043 non-null   object \n",
      " 15  Contract          7043 non-null   object \n",
      " 16  PaperlessBilling  7043 non-null   object \n",
      " 17  PaymentMethod     7043 non-null   object \n",
      " 18  MonthlyCharges    7043 non-null   float64\n",
      " 19  TotalCharges      7043 non-null   object \n",
      " 20  Churn             7043 non-null   object \n",
      "dtypes: float64(1), int64(2), object(18)\n",
      "memory usage: 1.1+ MB\n"
     ]
    }
   ],
   "source": [
    "df.info()"
   ]
  },
  {
   "cell_type": "markdown",
   "id": "fd1968c3",
   "metadata": {},
   "source": [
    "# Data Visualization"
   ]
  },
  {
   "cell_type": "code",
   "execution_count": 24,
   "id": "0ae2fcfa",
   "metadata": {},
   "outputs": [],
   "source": [
    "def plot_stacked_bars(dataframes, titles, size_=(20, 15), rot_=0, legend_=\"upper right\"):\n",
    "    num_plots = len(dataframes)\n",
    "    num_rows = (num_plots + 1) // 2\n",
    "    \n",
    "    fig, axes = plt.subplots(num_rows, 2, figsize=size_)\n",
    "    axes = axes.flatten()\n",
    "    \n",
    "    for i in range(num_plots):\n",
    "        ax = axes[i]\n",
    "        df = dataframes[i]\n",
    "        \n",
    "        ax = df.plot(kind='bar', stacked=True, ax=ax, rot=rot_, title=titles[i], color=['mediumspringgreen','coral'])\n",
    "        annotate_stacked_bars(ax, textsize=16)\n",
    "        ax.legend([\"Retention\", \"Churn\"], loc=legend_)\n",
    "        ax.set_ylabel(\"Company base (%)\")\n",
    "\n",
    "    for j in range(num_plots, len(axes)):\n",
    "        axes[j].axis('off') \n",
    "        \n",
    "    plt.tight_layout()\n",
    "    plt.show()\n",
    "\n",
    "def annotate_stacked_bars(ax, pad=0.99, colour=\"black\", textsize=20):\n",
    "    for p in ax.patches:\n",
    "        value = str(round(p.get_height(), 1))\n",
    "        if value == '0.0':\n",
    "            continue\n",
    "        ax.annotate(\n",
    "            value,\n",
    "            ((p.get_x() + p.get_width() / 2) * pad - 0.05, (p.get_y() + p.get_height() / 2) * pad),\n",
    "            color=colour, size=textsize)"
   ]
  },
  {
   "cell_type": "markdown",
   "id": "2547daea",
   "metadata": {},
   "source": [
    "## Target Variable: Churn"
   ]
  },
  {
   "cell_type": "code",
   "execution_count": 11,
   "id": "947392d7",
   "metadata": {},
   "outputs": [],
   "source": [
    "churn = df[['customerID', 'Churn']]\n",
    "churn.columns = ['Companies', 'Churn']\n",
    "churn_total = churn.groupby(churn['Churn']).count()\n",
    "churn_percentage = churn_total / churn_total.sum() * 100"
   ]
  },
  {
   "cell_type": "code",
   "execution_count": 25,
   "id": "975fc278",
   "metadata": {},
   "outputs": [
    {
     "data": {
      "image/png": "[encoded data removed]",
      "text/plain": [
       "<Figure size 360x360 with 2 Axes>"
      ]
     },
     "metadata": {
      "needs_background": "light"
     },
     "output_type": "display_data"
    }
   ],
   "source": [
    "plot_stacked_bars([churn_percentage.transpose()], \"Churning status\", (5, 5), legend_=\"lower right\")"
   ]
  },
  {
   "cell_type": "markdown",
   "id": "7a0a6e43",
   "metadata": {},
   "source": [
    "The distribution of the target is imbalanced due to the fact that retention comprises nearly 3/4 of the overall distributions."
   ]
  },
  {
   "cell_type": "markdown",
   "id": "d777d7dc",
   "metadata": {},
   "source": [
    "## Demographic Information: gender, SeniorCitizen, Partner, Dependents"
   ]
  },
  {
   "cell_type": "markdown",
   "id": "9545b3e8",
   "metadata": {},
   "source": [
    "### gender "
   ]
  },
  {
   "cell_type": "code",
   "execution_count": 15,
   "id": "6e498f55",
   "metadata": {},
   "outputs": [
    {
     "data": {
      "text/html": [
       "<div>\n",
       "<style scoped>\n",
       "    .dataframe tbody tr th:only-of-type {\n",
       "        vertical-align: middle;\n",
       "    }\n",
       "\n",
       "    .dataframe tbody tr th {\n",
       "        vertical-align: top;\n",
       "    }\n",
       "\n",
       "    .dataframe thead th {\n",
       "        text-align: right;\n",
       "    }\n",
       "</style>\n",
       "<table border=\"1\" class=\"dataframe\">\n",
       "  <thead>\n",
       "    <tr style=\"text-align: right;\">\n",
       "      <th>Churn</th>\n",
       "      <th>No</th>\n",
       "      <th>Yes</th>\n",
       "    </tr>\n",
       "    <tr>\n",
       "      <th>gender</th>\n",
       "      <th></th>\n",
       "      <th></th>\n",
       "    </tr>\n",
       "  </thead>\n",
       "  <tbody>\n",
       "    <tr>\n",
       "      <th>Female</th>\n",
       "      <td>2549</td>\n",
       "      <td>939</td>\n",
       "    </tr>\n",
       "    <tr>\n",
       "      <th>Male</th>\n",
       "      <td>2625</td>\n",
       "      <td>930</td>\n",
       "    </tr>\n",
       "  </tbody>\n",
       "</table>\n",
       "</div>"
      ],
      "text/plain": [
       "Churn     No  Yes\n",
       "gender           \n",
       "Female  2549  939\n",
       "Male    2625  930"
      ]
     },
     "execution_count": 15,
     "metadata": {},
     "output_type": "execute_result"
    }
   ],
   "source": [
    "gender = df[['customerID', 'gender', 'Churn']]\n",
    "gender = gender.groupby([gender['gender'], gender['Churn']])['customerID'].count().unstack(level=1)\n",
    "gender"
   ]
  },
  {
   "cell_type": "code",
   "execution_count": 16,
   "id": "7bb41649",
   "metadata": {},
   "outputs": [
    {
     "data": {
      "text/html": [
       "<div>\n",
       "<style scoped>\n",
       "    .dataframe tbody tr th:only-of-type {\n",
       "        vertical-align: middle;\n",
       "    }\n",
       "\n",
       "    .dataframe tbody tr th {\n",
       "        vertical-align: top;\n",
       "    }\n",
       "\n",
       "    .dataframe thead th {\n",
       "        text-align: right;\n",
       "    }\n",
       "</style>\n",
       "<table border=\"1\" class=\"dataframe\">\n",
       "  <thead>\n",
       "    <tr style=\"text-align: right;\">\n",
       "      <th>Churn</th>\n",
       "      <th>No</th>\n",
       "      <th>Yes</th>\n",
       "    </tr>\n",
       "    <tr>\n",
       "      <th>gender</th>\n",
       "      <th></th>\n",
       "      <th></th>\n",
       "    </tr>\n",
       "  </thead>\n",
       "  <tbody>\n",
       "    <tr>\n",
       "      <th>Female</th>\n",
       "      <td>73.079128</td>\n",
       "      <td>26.920872</td>\n",
       "    </tr>\n",
       "    <tr>\n",
       "      <th>Male</th>\n",
       "      <td>73.839662</td>\n",
       "      <td>26.160338</td>\n",
       "    </tr>\n",
       "  </tbody>\n",
       "</table>\n",
       "</div>"
      ],
      "text/plain": [
       "Churn          No        Yes\n",
       "gender                      \n",
       "Female  73.079128  26.920872\n",
       "Male    73.839662  26.160338"
      ]
     },
     "execution_count": 16,
     "metadata": {},
     "output_type": "execute_result"
    }
   ],
   "source": [
    "gender_churn = (gender.div(gender.sum(axis=1), axis=0) * 100).sort_values(by=['Yes'], ascending=False)\n",
    "\n",
    "gender_churn"
   ]
  },
  {
   "cell_type": "markdown",
   "id": "bfc0c95c",
   "metadata": {},
   "source": [
    "### SeniorCitizen "
   ]
  },
  {
   "cell_type": "code",
   "execution_count": 17,
   "id": "d76e094d",
   "metadata": {},
   "outputs": [
    {
     "data": {
      "text/html": [
       "<div>\n",
       "<style scoped>\n",
       "    .dataframe tbody tr th:only-of-type {\n",
       "        vertical-align: middle;\n",
       "    }\n",
       "\n",
       "    .dataframe tbody tr th {\n",
       "        vertical-align: top;\n",
       "    }\n",
       "\n",
       "    .dataframe thead th {\n",
       "        text-align: right;\n",
       "    }\n",
       "</style>\n",
       "<table border=\"1\" class=\"dataframe\">\n",
       "  <thead>\n",
       "    <tr style=\"text-align: right;\">\n",
       "      <th>Churn</th>\n",
       "      <th>No</th>\n",
       "      <th>Yes</th>\n",
       "    </tr>\n",
       "    <tr>\n",
       "      <th>SeniorCitizen</th>\n",
       "      <th></th>\n",
       "      <th></th>\n",
       "    </tr>\n",
       "  </thead>\n",
       "  <tbody>\n",
       "    <tr>\n",
       "      <th>1</th>\n",
       "      <td>58.318739</td>\n",
       "      <td>41.681261</td>\n",
       "    </tr>\n",
       "    <tr>\n",
       "      <th>0</th>\n",
       "      <td>76.393832</td>\n",
       "      <td>23.606168</td>\n",
       "    </tr>\n",
       "  </tbody>\n",
       "</table>\n",
       "</div>"
      ],
      "text/plain": [
       "Churn                 No        Yes\n",
       "SeniorCitizen                      \n",
       "1              58.318739  41.681261\n",
       "0              76.393832  23.606168"
      ]
     },
     "execution_count": 17,
     "metadata": {},
     "output_type": "execute_result"
    }
   ],
   "source": [
    "senior_citizen = df[['customerID', 'SeniorCitizen', 'Churn']]\n",
    "citizen = senior_citizen.groupby([senior_citizen['SeniorCitizen'], senior_citizen['Churn']])['customerID'].count().unstack(level=1)\n",
    "senior_citizen_churn = (citizen.div(citizen.sum(axis=1), axis=0) * 100).sort_values(by=['Yes'], ascending=False)\n",
    "\n",
    "senior_citizen_churn"
   ]
  },
  {
   "cell_type": "code",
   "execution_count": 18,
   "id": "f9e819b3",
   "metadata": {},
   "outputs": [
    {
     "data": {
      "text/html": [
       "<div>\n",
       "<style scoped>\n",
       "    .dataframe tbody tr th:only-of-type {\n",
       "        vertical-align: middle;\n",
       "    }\n",
       "\n",
       "    .dataframe tbody tr th {\n",
       "        vertical-align: top;\n",
       "    }\n",
       "\n",
       "    .dataframe thead th {\n",
       "        text-align: right;\n",
       "    }\n",
       "</style>\n",
       "<table border=\"1\" class=\"dataframe\">\n",
       "  <thead>\n",
       "    <tr style=\"text-align: right;\">\n",
       "      <th>Churn</th>\n",
       "      <th>No</th>\n",
       "      <th>Yes</th>\n",
       "    </tr>\n",
       "    <tr>\n",
       "      <th>SeniorCitizen</th>\n",
       "      <th></th>\n",
       "      <th></th>\n",
       "    </tr>\n",
       "  </thead>\n",
       "  <tbody>\n",
       "    <tr>\n",
       "      <th>0</th>\n",
       "      <td>4508</td>\n",
       "      <td>1393</td>\n",
       "    </tr>\n",
       "    <tr>\n",
       "      <th>1</th>\n",
       "      <td>666</td>\n",
       "      <td>476</td>\n",
       "    </tr>\n",
       "  </tbody>\n",
       "</table>\n",
       "</div>"
      ],
      "text/plain": [
       "Churn            No   Yes\n",
       "SeniorCitizen            \n",
       "0              4508  1393\n",
       "1               666   476"
      ]
     },
     "execution_count": 18,
     "metadata": {},
     "output_type": "execute_result"
    }
   ],
   "source": [
    "citizen"
   ]
  },
  {
   "cell_type": "markdown",
   "id": "a9bea6ab",
   "metadata": {},
   "source": [
    "### Partner "
   ]
  },
  {
   "cell_type": "code",
   "execution_count": 19,
   "id": "8b78be06",
   "metadata": {},
   "outputs": [
    {
     "data": {
      "text/html": [
       "<div>\n",
       "<style scoped>\n",
       "    .dataframe tbody tr th:only-of-type {\n",
       "        vertical-align: middle;\n",
       "    }\n",
       "\n",
       "    .dataframe tbody tr th {\n",
       "        vertical-align: top;\n",
       "    }\n",
       "\n",
       "    .dataframe thead th {\n",
       "        text-align: right;\n",
       "    }\n",
       "</style>\n",
       "<table border=\"1\" class=\"dataframe\">\n",
       "  <thead>\n",
       "    <tr style=\"text-align: right;\">\n",
       "      <th>Churn</th>\n",
       "      <th>No</th>\n",
       "      <th>Yes</th>\n",
       "    </tr>\n",
       "    <tr>\n",
       "      <th>Partner</th>\n",
       "      <th></th>\n",
       "      <th></th>\n",
       "    </tr>\n",
       "  </thead>\n",
       "  <tbody>\n",
       "    <tr>\n",
       "      <th>No</th>\n",
       "      <td>67.042021</td>\n",
       "      <td>32.957979</td>\n",
       "    </tr>\n",
       "    <tr>\n",
       "      <th>Yes</th>\n",
       "      <td>80.335097</td>\n",
       "      <td>19.664903</td>\n",
       "    </tr>\n",
       "  </tbody>\n",
       "</table>\n",
       "</div>"
      ],
      "text/plain": [
       "Churn           No        Yes\n",
       "Partner                      \n",
       "No       67.042021  32.957979\n",
       "Yes      80.335097  19.664903"
      ]
     },
     "execution_count": 19,
     "metadata": {},
     "output_type": "execute_result"
    }
   ],
   "source": [
    "partner = df[['customerID', 'Partner', 'Churn']]\n",
    "partner = partner.groupby([partner['Partner'], partner['Churn']])['customerID'].count().unstack(level=1)\n",
    "partner_churn = (partner.div(partner.sum(axis=1), axis=0) * 100).sort_values(by=['Yes'], ascending=False)\n",
    "\n",
    "partner_churn"
   ]
  },
  {
   "cell_type": "markdown",
   "id": "10e37e0c",
   "metadata": {},
   "source": [
    "### Dependents "
   ]
  },
  {
   "cell_type": "code",
   "execution_count": 20,
   "id": "239a0924",
   "metadata": {},
   "outputs": [
    {
     "data": {
      "text/html": [
       "<div>\n",
       "<style scoped>\n",
       "    .dataframe tbody tr th:only-of-type {\n",
       "        vertical-align: middle;\n",
       "    }\n",
       "\n",
       "    .dataframe tbody tr th {\n",
       "        vertical-align: top;\n",
       "    }\n",
       "\n",
       "    .dataframe thead th {\n",
       "        text-align: right;\n",
       "    }\n",
       "</style>\n",
       "<table border=\"1\" class=\"dataframe\">\n",
       "  <thead>\n",
       "    <tr style=\"text-align: right;\">\n",
       "      <th>Churn</th>\n",
       "      <th>No</th>\n",
       "      <th>Yes</th>\n",
       "    </tr>\n",
       "    <tr>\n",
       "      <th>Dependents</th>\n",
       "      <th></th>\n",
       "      <th></th>\n",
       "    </tr>\n",
       "  </thead>\n",
       "  <tbody>\n",
       "    <tr>\n",
       "      <th>No</th>\n",
       "      <td>68.720860</td>\n",
       "      <td>31.279140</td>\n",
       "    </tr>\n",
       "    <tr>\n",
       "      <th>Yes</th>\n",
       "      <td>84.549763</td>\n",
       "      <td>15.450237</td>\n",
       "    </tr>\n",
       "  </tbody>\n",
       "</table>\n",
       "</div>"
      ],
      "text/plain": [
       "Churn              No        Yes\n",
       "Dependents                      \n",
       "No          68.720860  31.279140\n",
       "Yes         84.549763  15.450237"
      ]
     },
     "execution_count": 20,
     "metadata": {},
     "output_type": "execute_result"
    }
   ],
   "source": [
    "dependents = df[['customerID', 'Dependents', 'Churn']]\n",
    "dependents = dependents.groupby([dependents['Dependents'], dependents['Churn']])['customerID'].count().unstack(level=1)\n",
    "dependents_churn = (dependents.div(dependents.sum(axis=1), axis=0) * 100).sort_values(by=['Yes'], ascending=False)\n",
    "\n",
    "dependents_churn"
   ]
  },
  {
   "cell_type": "markdown",
   "id": "d9657759",
   "metadata": {},
   "source": [
    "### Plot "
   ]
  },
  {
   "cell_type": "code",
   "execution_count": 26,
   "id": "71c777a5",
   "metadata": {},
   "outputs": [
    {
     "data": {
      "image/png": "[encoded data removed]",
      "text/plain": [
       "<Figure size 1440x1080 with 4 Axes>"
      ]
     },
     "metadata": {
      "needs_background": "light"
     },
     "output_type": "display_data"
    }
   ],
   "source": [
    "df_demographic = [gender_churn, senior_citizen_churn, partner_churn, dependents_churn]\n",
    "titles = ['gender', 'SeniorCitizen', 'Partner', 'Dependents']\n",
    "plot_stacked_bars(df_demographic, titles)"
   ]
  },
  {
   "cell_type": "markdown",
   "id": "819c22b9",
   "metadata": {},
   "source": [
    "- The churn rate is roughly equal between males and females.\n",
    "- The number of senior citizen is low.\n",
    "- Nearly 40% of customer churn are senior citizens.\n",
    "- Customer who has a partner churned less than a customer who do not have a partner.\n",
    "- Customers who have dependents demonstrate lower churn rates compared to customers who do not have dependents."
   ]
  },
  {
   "cell_type": "markdown",
   "id": "afaa6732",
   "metadata": {},
   "source": [
    "## Customer Account Inforrmation "
   ]
  },
  {
   "cell_type": "markdown",
   "id": "50f98d18",
   "metadata": {},
   "source": [
    "### Contract "
   ]
  },
  {
   "cell_type": "code",
   "execution_count": 27,
   "id": "43cb402c",
   "metadata": {},
   "outputs": [
    {
     "data": {
      "text/html": [
       "<div>\n",
       "<style scoped>\n",
       "    .dataframe tbody tr th:only-of-type {\n",
       "        vertical-align: middle;\n",
       "    }\n",
       "\n",
       "    .dataframe tbody tr th {\n",
       "        vertical-align: top;\n",
       "    }\n",
       "\n",
       "    .dataframe thead th {\n",
       "        text-align: right;\n",
       "    }\n",
       "</style>\n",
       "<table border=\"1\" class=\"dataframe\">\n",
       "  <thead>\n",
       "    <tr style=\"text-align: right;\">\n",
       "      <th>Churn</th>\n",
       "      <th>No</th>\n",
       "      <th>Yes</th>\n",
       "    </tr>\n",
       "    <tr>\n",
       "      <th>Contract</th>\n",
       "      <th></th>\n",
       "      <th></th>\n",
       "    </tr>\n",
       "  </thead>\n",
       "  <tbody>\n",
       "    <tr>\n",
       "      <th>Month-to-month</th>\n",
       "      <td>57.290323</td>\n",
       "      <td>42.709677</td>\n",
       "    </tr>\n",
       "    <tr>\n",
       "      <th>One year</th>\n",
       "      <td>88.730482</td>\n",
       "      <td>11.269518</td>\n",
       "    </tr>\n",
       "    <tr>\n",
       "      <th>Two year</th>\n",
       "      <td>97.168142</td>\n",
       "      <td>2.831858</td>\n",
       "    </tr>\n",
       "  </tbody>\n",
       "</table>\n",
       "</div>"
      ],
      "text/plain": [
       "Churn                  No        Yes\n",
       "Contract                            \n",
       "Month-to-month  57.290323  42.709677\n",
       "One year        88.730482  11.269518\n",
       "Two year        97.168142   2.831858"
      ]
     },
     "execution_count": 27,
     "metadata": {},
     "output_type": "execute_result"
    }
   ],
   "source": [
    "contract = df[['customerID', 'Contract', 'Churn']]\n",
    "contract = contract.groupby([contract['Contract'], contract['Churn']])['customerID'].count().unstack(level=1)\n",
    "contract_churn = (contract.div(contract.sum(axis=1), axis=0) * 100).sort_values(by=['Yes'], ascending=False)\n",
    "\n",
    "contract_churn"
   ]
  },
  {
   "cell_type": "markdown",
   "id": "d5896a8c",
   "metadata": {},
   "source": [
    "### PaperlessBilling"
   ]
  },
  {
   "cell_type": "code",
   "execution_count": 28,
   "id": "58059a90",
   "metadata": {},
   "outputs": [
    {
     "data": {
      "text/html": [
       "<div>\n",
       "<style scoped>\n",
       "    .dataframe tbody tr th:only-of-type {\n",
       "        vertical-align: middle;\n",
       "    }\n",
       "\n",
       "    .dataframe tbody tr th {\n",
       "        vertical-align: top;\n",
       "    }\n",
       "\n",
       "    .dataframe thead th {\n",
       "        text-align: right;\n",
       "    }\n",
       "</style>\n",
       "<table border=\"1\" class=\"dataframe\">\n",
       "  <thead>\n",
       "    <tr style=\"text-align: right;\">\n",
       "      <th>Churn</th>\n",
       "      <th>No</th>\n",
       "      <th>Yes</th>\n",
       "    </tr>\n",
       "    <tr>\n",
       "      <th>PaperlessBilling</th>\n",
       "      <th></th>\n",
       "      <th></th>\n",
       "    </tr>\n",
       "  </thead>\n",
       "  <tbody>\n",
       "    <tr>\n",
       "      <th>Yes</th>\n",
       "      <td>66.434908</td>\n",
       "      <td>33.565092</td>\n",
       "    </tr>\n",
       "    <tr>\n",
       "      <th>No</th>\n",
       "      <td>83.669916</td>\n",
       "      <td>16.330084</td>\n",
       "    </tr>\n",
       "  </tbody>\n",
       "</table>\n",
       "</div>"
      ],
      "text/plain": [
       "Churn                    No        Yes\n",
       "PaperlessBilling                      \n",
       "Yes               66.434908  33.565092\n",
       "No                83.669916  16.330084"
      ]
     },
     "execution_count": 28,
     "metadata": {},
     "output_type": "execute_result"
    }
   ],
   "source": [
    "billing = df[['customerID', 'PaperlessBilling', 'Churn']]\n",
    "billing = billing.groupby([billing['PaperlessBilling'], billing['Churn']])['customerID'].count().unstack(level=1)\n",
    "billing_churn = (billing.div(billing.sum(axis=1), axis=0) * 100).sort_values(by=['Yes'], ascending=False)\n",
    "\n",
    "billing_churn"
   ]
  },
  {
   "cell_type": "markdown",
   "id": "bb576a16",
   "metadata": {},
   "source": [
    "### PaymentMethod"
   ]
  },
  {
   "cell_type": "code",
   "execution_count": 29,
   "id": "2cac909e",
   "metadata": {},
   "outputs": [
    {
     "data": {
      "text/html": [
       "<div>\n",
       "<style scoped>\n",
       "    .dataframe tbody tr th:only-of-type {\n",
       "        vertical-align: middle;\n",
       "    }\n",
       "\n",
       "    .dataframe tbody tr th {\n",
       "        vertical-align: top;\n",
       "    }\n",
       "\n",
       "    .dataframe thead th {\n",
       "        text-align: right;\n",
       "    }\n",
       "</style>\n",
       "<table border=\"1\" class=\"dataframe\">\n",
       "  <thead>\n",
       "    <tr style=\"text-align: right;\">\n",
       "      <th>Churn</th>\n",
       "      <th>No</th>\n",
       "      <th>Yes</th>\n",
       "    </tr>\n",
       "    <tr>\n",
       "      <th>PaymentMethod</th>\n",
       "      <th></th>\n",
       "      <th></th>\n",
       "    </tr>\n",
       "  </thead>\n",
       "  <tbody>\n",
       "    <tr>\n",
       "      <th>Electronic check</th>\n",
       "      <td>54.714588</td>\n",
       "      <td>45.285412</td>\n",
       "    </tr>\n",
       "    <tr>\n",
       "      <th>Mailed check</th>\n",
       "      <td>80.893300</td>\n",
       "      <td>19.106700</td>\n",
       "    </tr>\n",
       "    <tr>\n",
       "      <th>Bank transfer (automatic)</th>\n",
       "      <td>83.290155</td>\n",
       "      <td>16.709845</td>\n",
       "    </tr>\n",
       "    <tr>\n",
       "      <th>Credit card (automatic)</th>\n",
       "      <td>84.756899</td>\n",
       "      <td>15.243101</td>\n",
       "    </tr>\n",
       "  </tbody>\n",
       "</table>\n",
       "</div>"
      ],
      "text/plain": [
       "Churn                             No        Yes\n",
       "PaymentMethod                                  \n",
       "Electronic check           54.714588  45.285412\n",
       "Mailed check               80.893300  19.106700\n",
       "Bank transfer (automatic)  83.290155  16.709845\n",
       "Credit card (automatic)    84.756899  15.243101"
      ]
     },
     "execution_count": 29,
     "metadata": {},
     "output_type": "execute_result"
    }
   ],
   "source": [
    "payment = df[['customerID', 'PaymentMethod', 'Churn']]\n",
    "payment = payment.groupby([payment['PaymentMethod'], payment['Churn']])['customerID'].count().unstack(level=1)\n",
    "payment_churn = (payment.div(payment.sum(axis=1), axis=0) * 100).sort_values(by=['Yes'], ascending=False)\n",
    "\n",
    "payment_churn"
   ]
  },
  {
   "cell_type": "markdown",
   "id": "7ffaf56a",
   "metadata": {},
   "source": [
    "### Plot"
   ]
  },
  {
   "cell_type": "code",
   "execution_count": 30,
   "id": "e56ad5c3",
   "metadata": {},
   "outputs": [
    {
     "data": {
      "image/png": "[encoded data removed]",
      "text/plain": [
       "<Figure size 1440x1080 with 4 Axes>"
      ]
     },
     "metadata": {
      "needs_background": "light"
     },
     "output_type": "display_data"
    }
   ],
   "source": [
    "df_acc_info = [contract_churn, billing_churn, payment_churn]\n",
    "titles = ['Contract', 'PaperlessBilling', 'PaymentMethod']\n",
    "plot_stacked_bars(df_acc_info, titles)"
   ]
  },
  {
   "cell_type": "markdown",
   "id": "2224d542",
   "metadata": {},
   "source": [
    "- Customer churning for month-to-month contracts is quite high. Probably it happens because customers are testing Telco for one month and then they decide whether they want to renew the contract or not.\n",
    "- Customers subscribed to paperless billing demonstrates a higher customer churn rates than who don't.\n",
    "- Customers who use electronic check payment methods have the most and a high number of churn customers."
   ]
  },
  {
   "cell_type": "markdown",
   "id": "904154f7",
   "metadata": {},
   "source": [
    "### tenure, MonthlyCharges, and TotalCharges"
   ]
  },
  {
   "cell_type": "code",
   "execution_count": 32,
   "id": "3a9edbd4",
   "metadata": {},
   "outputs": [],
   "source": [
    "def plot_distribution(dataframe, column, ax, bins_=50):\n",
    "    temp = pd.DataFrame({\"Retention\": dataframe[dataframe[\"Churn\"]=='No'][column],\n",
    "                         \"Churn\":dataframe[dataframe[\"Churn\"]=='Yes'][column]})\n",
    "    temp[[\"Retention\",\"Churn\"]].plot(kind='hist', bins=bins_, ax=ax, stacked=True, \n",
    "                                     alpha=0.5, color=['mediumspringgreen','salmon'])\n",
    "    ax.set_xlabel(column)\n",
    "    ax.ticklabel_format(style='plain', axis='x')"
   ]
  },
  {
   "cell_type": "code",
   "execution_count": 33,
   "id": "f4616518",
   "metadata": {},
   "outputs": [],
   "source": [
    "df['TotalCharges'] = pd.to_numeric(df['TotalCharges'], errors='coerce')"
   ]
  },
  {
   "cell_type": "code",
   "execution_count": 34,
   "id": "3e270798",
   "metadata": {},
   "outputs": [
    {
     "name": "stdout",
     "output_type": "stream",
     "text": [
      "<class 'pandas.core.frame.DataFrame'>\n",
      "RangeIndex: 7043 entries, 0 to 7042\n",
      "Data columns (total 21 columns):\n",
      " #   Column            Non-Null Count  Dtype  \n",
      "---  ------            --------------  -----  \n",
      " 0   customerID        7043 non-null   object \n",
      " 1   gender            7043 non-null   object \n",
      " 2   SeniorCitizen     7043 non-null   int64  \n",
      " 3   Partner           7043 non-null   object \n",
      " 4   Dependents        7043 non-null   object \n",
      " 5   tenure            7043 non-null   int64  \n",
      " 6   PhoneService      7043 non-null   object \n",
      " 7   MultipleLines     7043 non-null   object \n",
      " 8   InternetService   7043 non-null   object \n",
      " 9   OnlineSecurity    7043 non-null   object \n",
      " 10  OnlineBackup      7043 non-null   object \n",
      " 11  DeviceProtection  7043 non-null   object \n",
      " 12  TechSupport       7043 non-null   object \n",
      " 13  StreamingTV       7043 non-null   object \n",
      " 14  StreamingMovies   7043 non-null   object \n",
      " 15  Contract          7043 non-null   object \n",
      " 16  PaperlessBilling  7043 non-null   object \n",
      " 17  PaymentMethod     7043 non-null   object \n",
      " 18  MonthlyCharges    7043 non-null   float64\n",
      " 19  TotalCharges      7032 non-null   float64\n",
      " 20  Churn             7043 non-null   object \n",
      "dtypes: float64(2), int64(2), object(17)\n",
      "memory usage: 1.1+ MB\n"
     ]
    }
   ],
   "source": [
    "df.info()"
   ]
  },
  {
   "cell_type": "code",
   "execution_count": 35,
   "id": "0efc0432",
   "metadata": {},
   "outputs": [],
   "source": [
    "cust_info_num = df[['customerID', 'tenure', 'MonthlyCharges', 'TotalCharges', 'Churn']]"
   ]
  },
  {
   "cell_type": "code",
   "execution_count": 36,
   "id": "bb76ef87",
   "metadata": {},
   "outputs": [
    {
     "data": {
      "image/png": "[encoded data removed]",
      "text/plain": [
       "<Figure size 1440x1080 with 4 Axes>"
      ]
     },
     "metadata": {
      "needs_background": "light"
     },
     "output_type": "display_data"
    }
   ],
   "source": [
    "fig, ax = plt.subplots(nrows=2, ncols=2, figsize=(20, 15))\n",
    "\n",
    "plot_distribution(cust_info_num, 'tenure', ax[0,0])\n",
    "plot_distribution(cust_info_num, 'MonthlyCharges', ax[0,1])\n",
    "plot_distribution(cust_info_num, 'TotalCharges', ax[1,0])"
   ]
  },
  {
   "cell_type": "markdown",
   "id": "dc235161",
   "metadata": {},
   "source": [
    "- Total charges displays a positively skewed distribution. \n",
    "- Customers who has a lower total charges churned more than customers who has a higher total charges.\n",
    "- Higher monthly charges result in higher churn rates.\n",
    "- Lower tenure (new customers) has a higher churn rates."
   ]
  },
  {
   "cell_type": "markdown",
   "id": "e44197bf",
   "metadata": {},
   "source": [
    "## Service Information "
   ]
  },
  {
   "cell_type": "markdown",
   "id": "ffe9a904",
   "metadata": {},
   "source": [
    "### PhoneService"
   ]
  },
  {
   "cell_type": "code",
   "execution_count": 37,
   "id": "23de6826",
   "metadata": {},
   "outputs": [
    {
     "data": {
      "text/html": [
       "<div>\n",
       "<style scoped>\n",
       "    .dataframe tbody tr th:only-of-type {\n",
       "        vertical-align: middle;\n",
       "    }\n",
       "\n",
       "    .dataframe tbody tr th {\n",
       "        vertical-align: top;\n",
       "    }\n",
       "\n",
       "    .dataframe thead th {\n",
       "        text-align: right;\n",
       "    }\n",
       "</style>\n",
       "<table border=\"1\" class=\"dataframe\">\n",
       "  <thead>\n",
       "    <tr style=\"text-align: right;\">\n",
       "      <th>Churn</th>\n",
       "      <th>No</th>\n",
       "      <th>Yes</th>\n",
       "    </tr>\n",
       "    <tr>\n",
       "      <th>PhoneService</th>\n",
       "      <th></th>\n",
       "      <th></th>\n",
       "    </tr>\n",
       "  </thead>\n",
       "  <tbody>\n",
       "    <tr>\n",
       "      <th>Yes</th>\n",
       "      <td>73.290363</td>\n",
       "      <td>26.709637</td>\n",
       "    </tr>\n",
       "    <tr>\n",
       "      <th>No</th>\n",
       "      <td>75.073314</td>\n",
       "      <td>24.926686</td>\n",
       "    </tr>\n",
       "  </tbody>\n",
       "</table>\n",
       "</div>"
      ],
      "text/plain": [
       "Churn                No        Yes\n",
       "PhoneService                      \n",
       "Yes           73.290363  26.709637\n",
       "No            75.073314  24.926686"
      ]
     },
     "execution_count": 37,
     "metadata": {},
     "output_type": "execute_result"
    }
   ],
   "source": [
    "phone_service = df[['customerID', 'PhoneService', 'Churn']]\n",
    "phone_service = phone_service.groupby([phone_service['PhoneService'], phone_service['Churn']])['customerID'].count().unstack(level=1)\n",
    "phone_service_churn = (phone_service.div(phone_service.sum(axis=1), axis=0) * 100).sort_values(by=['Yes'], ascending=False)\n",
    "\n",
    "phone_service_churn"
   ]
  },
  {
   "cell_type": "code",
   "execution_count": 38,
   "id": "33a0765c",
   "metadata": {},
   "outputs": [
    {
     "data": {
      "text/html": [
       "<div>\n",
       "<style scoped>\n",
       "    .dataframe tbody tr th:only-of-type {\n",
       "        vertical-align: middle;\n",
       "    }\n",
       "\n",
       "    .dataframe tbody tr th {\n",
       "        vertical-align: top;\n",
       "    }\n",
       "\n",
       "    .dataframe thead th {\n",
       "        text-align: right;\n",
       "    }\n",
       "</style>\n",
       "<table border=\"1\" class=\"dataframe\">\n",
       "  <thead>\n",
       "    <tr style=\"text-align: right;\">\n",
       "      <th>Churn</th>\n",
       "      <th>No</th>\n",
       "      <th>Yes</th>\n",
       "    </tr>\n",
       "    <tr>\n",
       "      <th>PhoneService</th>\n",
       "      <th></th>\n",
       "      <th></th>\n",
       "    </tr>\n",
       "  </thead>\n",
       "  <tbody>\n",
       "    <tr>\n",
       "      <th>No</th>\n",
       "      <td>512</td>\n",
       "      <td>170</td>\n",
       "    </tr>\n",
       "    <tr>\n",
       "      <th>Yes</th>\n",
       "      <td>4662</td>\n",
       "      <td>1699</td>\n",
       "    </tr>\n",
       "  </tbody>\n",
       "</table>\n",
       "</div>"
      ],
      "text/plain": [
       "Churn           No   Yes\n",
       "PhoneService            \n",
       "No             512   170\n",
       "Yes           4662  1699"
      ]
     },
     "execution_count": 38,
     "metadata": {},
     "output_type": "execute_result"
    }
   ],
   "source": [
    "phone_service"
   ]
  },
  {
   "cell_type": "markdown",
   "id": "9d98d9f5",
   "metadata": {},
   "source": [
    "### MultipleLines"
   ]
  },
  {
   "cell_type": "code",
   "execution_count": 39,
   "id": "54d3482f",
   "metadata": {},
   "outputs": [
    {
     "data": {
      "text/html": [
       "<div>\n",
       "<style scoped>\n",
       "    .dataframe tbody tr th:only-of-type {\n",
       "        vertical-align: middle;\n",
       "    }\n",
       "\n",
       "    .dataframe tbody tr th {\n",
       "        vertical-align: top;\n",
       "    }\n",
       "\n",
       "    .dataframe thead th {\n",
       "        text-align: right;\n",
       "    }\n",
       "</style>\n",
       "<table border=\"1\" class=\"dataframe\">\n",
       "  <thead>\n",
       "    <tr style=\"text-align: right;\">\n",
       "      <th>Churn</th>\n",
       "      <th>No</th>\n",
       "      <th>Yes</th>\n",
       "    </tr>\n",
       "    <tr>\n",
       "      <th>MultipleLines</th>\n",
       "      <th></th>\n",
       "      <th></th>\n",
       "    </tr>\n",
       "  </thead>\n",
       "  <tbody>\n",
       "    <tr>\n",
       "      <th>Yes</th>\n",
       "      <td>71.390104</td>\n",
       "      <td>28.609896</td>\n",
       "    </tr>\n",
       "    <tr>\n",
       "      <th>No</th>\n",
       "      <td>74.955752</td>\n",
       "      <td>25.044248</td>\n",
       "    </tr>\n",
       "    <tr>\n",
       "      <th>No phone service</th>\n",
       "      <td>75.073314</td>\n",
       "      <td>24.926686</td>\n",
       "    </tr>\n",
       "  </tbody>\n",
       "</table>\n",
       "</div>"
      ],
      "text/plain": [
       "Churn                    No        Yes\n",
       "MultipleLines                         \n",
       "Yes               71.390104  28.609896\n",
       "No                74.955752  25.044248\n",
       "No phone service  75.073314  24.926686"
      ]
     },
     "execution_count": 39,
     "metadata": {},
     "output_type": "execute_result"
    }
   ],
   "source": [
    "lines = df[['customerID', 'MultipleLines', 'Churn']]\n",
    "lines = lines.groupby([lines['MultipleLines'], lines['Churn']])['customerID'].count().unstack(level=1)\n",
    "lines_churn = (lines.div(lines.sum(axis=1), axis=0) * 100).sort_values(by=['Yes'], ascending=False)\n",
    "\n",
    "lines_churn"
   ]
  },
  {
   "cell_type": "markdown",
   "id": "cc09d429",
   "metadata": {},
   "source": [
    "### InternetService"
   ]
  },
  {
   "cell_type": "code",
   "execution_count": 40,
   "id": "689c10e3",
   "metadata": {},
   "outputs": [
    {
     "data": {
      "text/html": [
       "<div>\n",
       "<style scoped>\n",
       "    .dataframe tbody tr th:only-of-type {\n",
       "        vertical-align: middle;\n",
       "    }\n",
       "\n",
       "    .dataframe tbody tr th {\n",
       "        vertical-align: top;\n",
       "    }\n",
       "\n",
       "    .dataframe thead th {\n",
       "        text-align: right;\n",
       "    }\n",
       "</style>\n",
       "<table border=\"1\" class=\"dataframe\">\n",
       "  <thead>\n",
       "    <tr style=\"text-align: right;\">\n",
       "      <th>Churn</th>\n",
       "      <th>No</th>\n",
       "      <th>Yes</th>\n",
       "    </tr>\n",
       "    <tr>\n",
       "      <th>InternetService</th>\n",
       "      <th></th>\n",
       "      <th></th>\n",
       "    </tr>\n",
       "  </thead>\n",
       "  <tbody>\n",
       "    <tr>\n",
       "      <th>Fiber optic</th>\n",
       "      <td>58.107235</td>\n",
       "      <td>41.892765</td>\n",
       "    </tr>\n",
       "    <tr>\n",
       "      <th>DSL</th>\n",
       "      <td>81.040892</td>\n",
       "      <td>18.959108</td>\n",
       "    </tr>\n",
       "    <tr>\n",
       "      <th>No</th>\n",
       "      <td>92.595020</td>\n",
       "      <td>7.404980</td>\n",
       "    </tr>\n",
       "  </tbody>\n",
       "</table>\n",
       "</div>"
      ],
      "text/plain": [
       "Churn                   No        Yes\n",
       "InternetService                      \n",
       "Fiber optic      58.107235  41.892765\n",
       "DSL              81.040892  18.959108\n",
       "No               92.595020   7.404980"
      ]
     },
     "execution_count": 40,
     "metadata": {},
     "output_type": "execute_result"
    }
   ],
   "source": [
    "internet = df[['customerID', 'InternetService', 'Churn']]\n",
    "internet = internet.groupby([internet['InternetService'], internet['Churn']])['customerID'].count().unstack(level=1)\n",
    "internet_churn = (internet.div(internet.sum(axis=1), axis=0) * 100).sort_values(by=['Yes'], ascending=False)\n",
    "\n",
    "internet_churn"
   ]
  },
  {
   "cell_type": "markdown",
   "id": "d686c344",
   "metadata": {},
   "source": [
    "### OnlineSecurity"
   ]
  },
  {
   "cell_type": "code",
   "execution_count": 41,
   "id": "32f52ce7",
   "metadata": {},
   "outputs": [
    {
     "data": {
      "text/html": [
       "<div>\n",
       "<style scoped>\n",
       "    .dataframe tbody tr th:only-of-type {\n",
       "        vertical-align: middle;\n",
       "    }\n",
       "\n",
       "    .dataframe tbody tr th {\n",
       "        vertical-align: top;\n",
       "    }\n",
       "\n",
       "    .dataframe thead th {\n",
       "        text-align: right;\n",
       "    }\n",
       "</style>\n",
       "<table border=\"1\" class=\"dataframe\">\n",
       "  <thead>\n",
       "    <tr style=\"text-align: right;\">\n",
       "      <th>Churn</th>\n",
       "      <th>No</th>\n",
       "      <th>Yes</th>\n",
       "    </tr>\n",
       "    <tr>\n",
       "      <th>OnlineSecurity</th>\n",
       "      <th></th>\n",
       "      <th></th>\n",
       "    </tr>\n",
       "  </thead>\n",
       "  <tbody>\n",
       "    <tr>\n",
       "      <th>No</th>\n",
       "      <td>58.233276</td>\n",
       "      <td>41.766724</td>\n",
       "    </tr>\n",
       "    <tr>\n",
       "      <th>Yes</th>\n",
       "      <td>85.388806</td>\n",
       "      <td>14.611194</td>\n",
       "    </tr>\n",
       "    <tr>\n",
       "      <th>No internet service</th>\n",
       "      <td>92.595020</td>\n",
       "      <td>7.404980</td>\n",
       "    </tr>\n",
       "  </tbody>\n",
       "</table>\n",
       "</div>"
      ],
      "text/plain": [
       "Churn                       No        Yes\n",
       "OnlineSecurity                           \n",
       "No                   58.233276  41.766724\n",
       "Yes                  85.388806  14.611194\n",
       "No internet service  92.595020   7.404980"
      ]
     },
     "execution_count": 41,
     "metadata": {},
     "output_type": "execute_result"
    }
   ],
   "source": [
    "security = df[['customerID', 'OnlineSecurity', 'Churn']]\n",
    "security = security.groupby([security['OnlineSecurity'], security['Churn']])['customerID'].count().unstack(level=1)\n",
    "security_churn = (security.div(security.sum(axis=1), axis=0) * 100).sort_values(by=['Yes'], ascending=False)\n",
    "\n",
    "security_churn"
   ]
  },
  {
   "cell_type": "markdown",
   "id": "2e4673f8",
   "metadata": {},
   "source": [
    "### OnlineBackup"
   ]
  },
  {
   "cell_type": "code",
   "execution_count": 42,
   "id": "e614defa",
   "metadata": {},
   "outputs": [
    {
     "data": {
      "text/html": [
       "<div>\n",
       "<style scoped>\n",
       "    .dataframe tbody tr th:only-of-type {\n",
       "        vertical-align: middle;\n",
       "    }\n",
       "\n",
       "    .dataframe tbody tr th {\n",
       "        vertical-align: top;\n",
       "    }\n",
       "\n",
       "    .dataframe thead th {\n",
       "        text-align: right;\n",
       "    }\n",
       "</style>\n",
       "<table border=\"1\" class=\"dataframe\">\n",
       "  <thead>\n",
       "    <tr style=\"text-align: right;\">\n",
       "      <th>Churn</th>\n",
       "      <th>No</th>\n",
       "      <th>Yes</th>\n",
       "    </tr>\n",
       "    <tr>\n",
       "      <th>OnlineBackup</th>\n",
       "      <th></th>\n",
       "      <th></th>\n",
       "    </tr>\n",
       "  </thead>\n",
       "  <tbody>\n",
       "    <tr>\n",
       "      <th>No</th>\n",
       "      <td>60.071244</td>\n",
       "      <td>39.928756</td>\n",
       "    </tr>\n",
       "    <tr>\n",
       "      <th>Yes</th>\n",
       "      <td>78.468506</td>\n",
       "      <td>21.531494</td>\n",
       "    </tr>\n",
       "    <tr>\n",
       "      <th>No internet service</th>\n",
       "      <td>92.595020</td>\n",
       "      <td>7.404980</td>\n",
       "    </tr>\n",
       "  </tbody>\n",
       "</table>\n",
       "</div>"
      ],
      "text/plain": [
       "Churn                       No        Yes\n",
       "OnlineBackup                             \n",
       "No                   60.071244  39.928756\n",
       "Yes                  78.468506  21.531494\n",
       "No internet service  92.595020   7.404980"
      ]
     },
     "execution_count": 42,
     "metadata": {},
     "output_type": "execute_result"
    }
   ],
   "source": [
    "online_backup = df[['customerID', 'OnlineBackup', 'Churn']]\n",
    "online_backup = online_backup.groupby([online_backup['OnlineBackup'], online_backup['Churn']])['customerID'].count().unstack(level=1)\n",
    "online_backup_churn = (online_backup.div(online_backup.sum(axis=1), axis=0) * 100).sort_values(by=['Yes'], ascending=False)\n",
    "\n",
    "online_backup_churn"
   ]
  },
  {
   "cell_type": "markdown",
   "id": "9e3cfd5f",
   "metadata": {},
   "source": [
    "### Plot"
   ]
  },
  {
   "cell_type": "code",
   "execution_count": 43,
   "id": "450ceae3",
   "metadata": {},
   "outputs": [
    {
     "data": {
      "image/png": "[encoded data removed]",
      "text/plain": [
       "<Figure size 1440x1656 with 6 Axes>"
      ]
     },
     "metadata": {
      "needs_background": "light"
     },
     "output_type": "display_data"
    }
   ],
   "source": [
    "df_service = [phone_service_churn, lines_churn, internet_churn, security_churn, online_backup_churn]\n",
    "titles = ['PhoneService', 'MultipleLines', 'InternetService', 'OnlineSecurity', 'OnlineBackup']\n",
    "plot_stacked_bars(df_service, titles, size_=(20, 23))"
   ]
  },
  {
   "cell_type": "markdown",
   "id": "ef597825",
   "metadata": {},
   "source": [
    "- The number of customers who has no phone service is low.\n",
    "- The churn rate between customers with phone service and without it displays similar churn rate.\n",
    "- The churn rate between customers with multiple lines, customers without multiple lines, and customers with no phone service demonstrates a similar churn rate.\n",
    "- Customers with internet service using fiber churn more.\n",
    "- Customers with no online security churn more.\n",
    "- Customers with no online backup churn more."
   ]
  },
  {
   "cell_type": "markdown",
   "id": "79c0f489",
   "metadata": {},
   "source": [
    "### DeviceProtection"
   ]
  },
  {
   "cell_type": "code",
   "execution_count": 44,
   "id": "627aba1c",
   "metadata": {},
   "outputs": [
    {
     "data": {
      "text/html": [
       "<div>\n",
       "<style scoped>\n",
       "    .dataframe tbody tr th:only-of-type {\n",
       "        vertical-align: middle;\n",
       "    }\n",
       "\n",
       "    .dataframe tbody tr th {\n",
       "        vertical-align: top;\n",
       "    }\n",
       "\n",
       "    .dataframe thead th {\n",
       "        text-align: right;\n",
       "    }\n",
       "</style>\n",
       "<table border=\"1\" class=\"dataframe\">\n",
       "  <thead>\n",
       "    <tr style=\"text-align: right;\">\n",
       "      <th>Churn</th>\n",
       "      <th>No</th>\n",
       "      <th>Yes</th>\n",
       "    </tr>\n",
       "    <tr>\n",
       "      <th>DeviceProtection</th>\n",
       "      <th></th>\n",
       "      <th></th>\n",
       "    </tr>\n",
       "  </thead>\n",
       "  <tbody>\n",
       "    <tr>\n",
       "      <th>No</th>\n",
       "      <td>60.872375</td>\n",
       "      <td>39.127625</td>\n",
       "    </tr>\n",
       "    <tr>\n",
       "      <th>Yes</th>\n",
       "      <td>77.497936</td>\n",
       "      <td>22.502064</td>\n",
       "    </tr>\n",
       "    <tr>\n",
       "      <th>No internet service</th>\n",
       "      <td>92.595020</td>\n",
       "      <td>7.404980</td>\n",
       "    </tr>\n",
       "  </tbody>\n",
       "</table>\n",
       "</div>"
      ],
      "text/plain": [
       "Churn                       No        Yes\n",
       "DeviceProtection                         \n",
       "No                   60.872375  39.127625\n",
       "Yes                  77.497936  22.502064\n",
       "No internet service  92.595020   7.404980"
      ]
     },
     "execution_count": 44,
     "metadata": {},
     "output_type": "execute_result"
    }
   ],
   "source": [
    "device_protection = df[['customerID', 'DeviceProtection', 'Churn']]\n",
    "device_protection = device_protection.groupby([device_protection['DeviceProtection'], device_protection['Churn']])['customerID'].count().unstack(level=1)\n",
    "device_protection_churn = (device_protection.div(device_protection.sum(axis=1), axis=0) * 100).sort_values(by=['Yes'], ascending=False)\n",
    "\n",
    "device_protection_churn"
   ]
  },
  {
   "cell_type": "markdown",
   "id": "3e5f1a5d",
   "metadata": {},
   "source": [
    "### TechSupport"
   ]
  },
  {
   "cell_type": "code",
   "execution_count": 45,
   "id": "70f2836e",
   "metadata": {},
   "outputs": [
    {
     "data": {
      "text/html": [
       "<div>\n",
       "<style scoped>\n",
       "    .dataframe tbody tr th:only-of-type {\n",
       "        vertical-align: middle;\n",
       "    }\n",
       "\n",
       "    .dataframe tbody tr th {\n",
       "        vertical-align: top;\n",
       "    }\n",
       "\n",
       "    .dataframe thead th {\n",
       "        text-align: right;\n",
       "    }\n",
       "</style>\n",
       "<table border=\"1\" class=\"dataframe\">\n",
       "  <thead>\n",
       "    <tr style=\"text-align: right;\">\n",
       "      <th>Churn</th>\n",
       "      <th>No</th>\n",
       "      <th>Yes</th>\n",
       "    </tr>\n",
       "    <tr>\n",
       "      <th>TechSupport</th>\n",
       "      <th></th>\n",
       "      <th></th>\n",
       "    </tr>\n",
       "  </thead>\n",
       "  <tbody>\n",
       "    <tr>\n",
       "      <th>No</th>\n",
       "      <td>58.364526</td>\n",
       "      <td>41.635474</td>\n",
       "    </tr>\n",
       "    <tr>\n",
       "      <th>Yes</th>\n",
       "      <td>84.833659</td>\n",
       "      <td>15.166341</td>\n",
       "    </tr>\n",
       "    <tr>\n",
       "      <th>No internet service</th>\n",
       "      <td>92.595020</td>\n",
       "      <td>7.404980</td>\n",
       "    </tr>\n",
       "  </tbody>\n",
       "</table>\n",
       "</div>"
      ],
      "text/plain": [
       "Churn                       No        Yes\n",
       "TechSupport                              \n",
       "No                   58.364526  41.635474\n",
       "Yes                  84.833659  15.166341\n",
       "No internet service  92.595020   7.404980"
      ]
     },
     "execution_count": 45,
     "metadata": {},
     "output_type": "execute_result"
    }
   ],
   "source": [
    "tech_support = df[['customerID', 'TechSupport', 'Churn']]\n",
    "tech_support = tech_support.groupby([tech_support['TechSupport'], tech_support['Churn']])['customerID'].count().unstack(level=1)\n",
    "tech_support_churn = (tech_support.div(tech_support.sum(axis=1), axis=0) * 100).sort_values(by=['Yes'], ascending=False)\n",
    "\n",
    "tech_support_churn"
   ]
  },
  {
   "cell_type": "markdown",
   "id": "a1e14cf3",
   "metadata": {},
   "source": [
    "### StreamingTV"
   ]
  },
  {
   "cell_type": "code",
   "execution_count": 46,
   "id": "2b5f0915",
   "metadata": {},
   "outputs": [
    {
     "data": {
      "text/html": [
       "<div>\n",
       "<style scoped>\n",
       "    .dataframe tbody tr th:only-of-type {\n",
       "        vertical-align: middle;\n",
       "    }\n",
       "\n",
       "    .dataframe tbody tr th {\n",
       "        vertical-align: top;\n",
       "    }\n",
       "\n",
       "    .dataframe thead th {\n",
       "        text-align: right;\n",
       "    }\n",
       "</style>\n",
       "<table border=\"1\" class=\"dataframe\">\n",
       "  <thead>\n",
       "    <tr style=\"text-align: right;\">\n",
       "      <th>Churn</th>\n",
       "      <th>No</th>\n",
       "      <th>Yes</th>\n",
       "    </tr>\n",
       "    <tr>\n",
       "      <th>StreamingTV</th>\n",
       "      <th></th>\n",
       "      <th></th>\n",
       "    </tr>\n",
       "  </thead>\n",
       "  <tbody>\n",
       "    <tr>\n",
       "      <th>No</th>\n",
       "      <td>66.476868</td>\n",
       "      <td>33.523132</td>\n",
       "    </tr>\n",
       "    <tr>\n",
       "      <th>Yes</th>\n",
       "      <td>69.929812</td>\n",
       "      <td>30.070188</td>\n",
       "    </tr>\n",
       "    <tr>\n",
       "      <th>No internet service</th>\n",
       "      <td>92.595020</td>\n",
       "      <td>7.404980</td>\n",
       "    </tr>\n",
       "  </tbody>\n",
       "</table>\n",
       "</div>"
      ],
      "text/plain": [
       "Churn                       No        Yes\n",
       "StreamingTV                              \n",
       "No                   66.476868  33.523132\n",
       "Yes                  69.929812  30.070188\n",
       "No internet service  92.595020   7.404980"
      ]
     },
     "execution_count": 46,
     "metadata": {},
     "output_type": "execute_result"
    }
   ],
   "source": [
    "tv = df[['customerID', 'StreamingTV', 'Churn']]\n",
    "tv = tv.groupby([tv['StreamingTV'], tv['Churn']])['customerID'].count().unstack(level=1)\n",
    "tv_churn = (tv.div(tv.sum(axis=1), axis=0) * 100).sort_values(by=['Yes'], ascending=False)\n",
    "\n",
    "tv_churn"
   ]
  },
  {
   "cell_type": "markdown",
   "id": "a17835e7",
   "metadata": {},
   "source": [
    "### StreamingMovies"
   ]
  },
  {
   "cell_type": "code",
   "execution_count": 47,
   "id": "9914b5be",
   "metadata": {},
   "outputs": [
    {
     "data": {
      "text/html": [
       "<div>\n",
       "<style scoped>\n",
       "    .dataframe tbody tr th:only-of-type {\n",
       "        vertical-align: middle;\n",
       "    }\n",
       "\n",
       "    .dataframe tbody tr th {\n",
       "        vertical-align: top;\n",
       "    }\n",
       "\n",
       "    .dataframe thead th {\n",
       "        text-align: right;\n",
       "    }\n",
       "</style>\n",
       "<table border=\"1\" class=\"dataframe\">\n",
       "  <thead>\n",
       "    <tr style=\"text-align: right;\">\n",
       "      <th>Churn</th>\n",
       "      <th>No</th>\n",
       "      <th>Yes</th>\n",
       "    </tr>\n",
       "    <tr>\n",
       "      <th>StreamingMovies</th>\n",
       "      <th></th>\n",
       "      <th></th>\n",
       "    </tr>\n",
       "  </thead>\n",
       "  <tbody>\n",
       "    <tr>\n",
       "      <th>No</th>\n",
       "      <td>66.319569</td>\n",
       "      <td>33.680431</td>\n",
       "    </tr>\n",
       "    <tr>\n",
       "      <th>Yes</th>\n",
       "      <td>70.058565</td>\n",
       "      <td>29.941435</td>\n",
       "    </tr>\n",
       "    <tr>\n",
       "      <th>No internet service</th>\n",
       "      <td>92.595020</td>\n",
       "      <td>7.404980</td>\n",
       "    </tr>\n",
       "  </tbody>\n",
       "</table>\n",
       "</div>"
      ],
      "text/plain": [
       "Churn                       No        Yes\n",
       "StreamingMovies                          \n",
       "No                   66.319569  33.680431\n",
       "Yes                  70.058565  29.941435\n",
       "No internet service  92.595020   7.404980"
      ]
     },
     "execution_count": 47,
     "metadata": {},
     "output_type": "execute_result"
    }
   ],
   "source": [
    "movies = df[['customerID', 'StreamingMovies', 'Churn']]\n",
    "movies = movies.groupby([movies['StreamingMovies'], movies['Churn']])['customerID'].count().unstack(level=1)\n",
    "movies_churn = (movies.div(movies.sum(axis=1), axis=0) * 100).sort_values(by=['Yes'], ascending=False)\n",
    "\n",
    "movies_churn"
   ]
  },
  {
   "cell_type": "markdown",
   "id": "2c1a33e0",
   "metadata": {},
   "source": [
    "### Plot"
   ]
  },
  {
   "cell_type": "code",
   "execution_count": 48,
   "id": "30efccec",
   "metadata": {},
   "outputs": [
    {
     "data": {
      "image/png": "[encoded data removed]",
      "text/plain": [
       "<Figure size 1440x1080 with 4 Axes>"
      ]
     },
     "metadata": {
      "needs_background": "light"
     },
     "output_type": "display_data"
    }
   ],
   "source": [
    "df_service = [device_protection_churn, tech_support_churn, tv_churn, movies_churn]\n",
    "titles = ['DeviceProtection', 'TechSupport', 'StreamingTV', 'StreamingMovies']\n",
    "plot_stacked_bars(df_service, titles)"
   ]
  },
  {
   "cell_type": "markdown",
   "id": "d6621c43",
   "metadata": {},
   "source": [
    "Customers without device prtection or without tech support churn more."
   ]
  },
  {
   "cell_type": "markdown",
   "id": "7f396619",
   "metadata": {},
   "source": [
    "# Feature Engineering and Data Splitting"
   ]
  },
  {
   "cell_type": "code",
   "execution_count": 49,
   "id": "80c5e781",
   "metadata": {},
   "outputs": [
    {
     "data": {
      "text/html": [
       "<div>\n",
       "<style scoped>\n",
       "    .dataframe tbody tr th:only-of-type {\n",
       "        vertical-align: middle;\n",
       "    }\n",
       "\n",
       "    .dataframe tbody tr th {\n",
       "        vertical-align: top;\n",
       "    }\n",
       "\n",
       "    .dataframe thead th {\n",
       "        text-align: right;\n",
       "    }\n",
       "</style>\n",
       "<table border=\"1\" class=\"dataframe\">\n",
       "  <thead>\n",
       "    <tr style=\"text-align: right;\">\n",
       "      <th></th>\n",
       "      <th>gender</th>\n",
       "      <th>SeniorCitizen</th>\n",
       "      <th>Partner</th>\n",
       "      <th>Dependents</th>\n",
       "      <th>tenure</th>\n",
       "      <th>PhoneService</th>\n",
       "      <th>MultipleLines</th>\n",
       "      <th>InternetService</th>\n",
       "      <th>OnlineSecurity</th>\n",
       "      <th>OnlineBackup</th>\n",
       "      <th>DeviceProtection</th>\n",
       "      <th>TechSupport</th>\n",
       "      <th>StreamingTV</th>\n",
       "      <th>StreamingMovies</th>\n",
       "      <th>Contract</th>\n",
       "      <th>PaperlessBilling</th>\n",
       "      <th>PaymentMethod</th>\n",
       "      <th>MonthlyCharges</th>\n",
       "      <th>TotalCharges</th>\n",
       "      <th>Churn</th>\n",
       "    </tr>\n",
       "  </thead>\n",
       "  <tbody>\n",
       "    <tr>\n",
       "      <th>0</th>\n",
       "      <td>Female</td>\n",
       "      <td>0</td>\n",
       "      <td>Yes</td>\n",
       "      <td>No</td>\n",
       "      <td>1</td>\n",
       "      <td>No</td>\n",
       "      <td>No phone service</td>\n",
       "      <td>DSL</td>\n",
       "      <td>No</td>\n",
       "      <td>Yes</td>\n",
       "      <td>No</td>\n",
       "      <td>No</td>\n",
       "      <td>No</td>\n",
       "      <td>No</td>\n",
       "      <td>Month-to-month</td>\n",
       "      <td>Yes</td>\n",
       "      <td>Electronic check</td>\n",
       "      <td>29.85</td>\n",
       "      <td>29.85</td>\n",
       "      <td>No</td>\n",
       "    </tr>\n",
       "    <tr>\n",
       "      <th>1</th>\n",
       "      <td>Male</td>\n",
       "      <td>0</td>\n",
       "      <td>No</td>\n",
       "      <td>No</td>\n",
       "      <td>34</td>\n",
       "      <td>Yes</td>\n",
       "      <td>No</td>\n",
       "      <td>DSL</td>\n",
       "      <td>Yes</td>\n",
       "      <td>No</td>\n",
       "      <td>Yes</td>\n",
       "      <td>No</td>\n",
       "      <td>No</td>\n",
       "      <td>No</td>\n",
       "      <td>One year</td>\n",
       "      <td>No</td>\n",
       "      <td>Mailed check</td>\n",
       "      <td>56.95</td>\n",
       "      <td>1889.50</td>\n",
       "      <td>No</td>\n",
       "    </tr>\n",
       "    <tr>\n",
       "      <th>2</th>\n",
       "      <td>Male</td>\n",
       "      <td>0</td>\n",
       "      <td>No</td>\n",
       "      <td>No</td>\n",
       "      <td>2</td>\n",
       "      <td>Yes</td>\n",
       "      <td>No</td>\n",
       "      <td>DSL</td>\n",
       "      <td>Yes</td>\n",
       "      <td>Yes</td>\n",
       "      <td>No</td>\n",
       "      <td>No</td>\n",
       "      <td>No</td>\n",
       "      <td>No</td>\n",
       "      <td>Month-to-month</td>\n",
       "      <td>Yes</td>\n",
       "      <td>Mailed check</td>\n",
       "      <td>53.85</td>\n",
       "      <td>108.15</td>\n",
       "      <td>Yes</td>\n",
       "    </tr>\n",
       "    <tr>\n",
       "      <th>3</th>\n",
       "      <td>Male</td>\n",
       "      <td>0</td>\n",
       "      <td>No</td>\n",
       "      <td>No</td>\n",
       "      <td>45</td>\n",
       "      <td>No</td>\n",
       "      <td>No phone service</td>\n",
       "      <td>DSL</td>\n",
       "      <td>Yes</td>\n",
       "      <td>No</td>\n",
       "      <td>Yes</td>\n",
       "      <td>Yes</td>\n",
       "      <td>No</td>\n",
       "      <td>No</td>\n",
       "      <td>One year</td>\n",
       "      <td>No</td>\n",
       "      <td>Bank transfer (automatic)</td>\n",
       "      <td>42.30</td>\n",
       "      <td>1840.75</td>\n",
       "      <td>No</td>\n",
       "    </tr>\n",
       "    <tr>\n",
       "      <th>4</th>\n",
       "      <td>Female</td>\n",
       "      <td>0</td>\n",
       "      <td>No</td>\n",
       "      <td>No</td>\n",
       "      <td>2</td>\n",
       "      <td>Yes</td>\n",
       "      <td>No</td>\n",
       "      <td>Fiber optic</td>\n",
       "      <td>No</td>\n",
       "      <td>No</td>\n",
       "      <td>No</td>\n",
       "      <td>No</td>\n",
       "      <td>No</td>\n",
       "      <td>No</td>\n",
       "      <td>Month-to-month</td>\n",
       "      <td>Yes</td>\n",
       "      <td>Electronic check</td>\n",
       "      <td>70.70</td>\n",
       "      <td>151.65</td>\n",
       "      <td>Yes</td>\n",
       "    </tr>\n",
       "    <tr>\n",
       "      <th>...</th>\n",
       "      <td>...</td>\n",
       "      <td>...</td>\n",
       "      <td>...</td>\n",
       "      <td>...</td>\n",
       "      <td>...</td>\n",
       "      <td>...</td>\n",
       "      <td>...</td>\n",
       "      <td>...</td>\n",
       "      <td>...</td>\n",
       "      <td>...</td>\n",
       "      <td>...</td>\n",
       "      <td>...</td>\n",
       "      <td>...</td>\n",
       "      <td>...</td>\n",
       "      <td>...</td>\n",
       "      <td>...</td>\n",
       "      <td>...</td>\n",
       "      <td>...</td>\n",
       "      <td>...</td>\n",
       "      <td>...</td>\n",
       "    </tr>\n",
       "    <tr>\n",
       "      <th>7038</th>\n",
       "      <td>Male</td>\n",
       "      <td>0</td>\n",
       "      <td>Yes</td>\n",
       "      <td>Yes</td>\n",
       "      <td>24</td>\n",
       "      <td>Yes</td>\n",
       "      <td>Yes</td>\n",
       "      <td>DSL</td>\n",
       "      <td>Yes</td>\n",
       "      <td>No</td>\n",
       "      <td>Yes</td>\n",
       "      <td>Yes</td>\n",
       "      <td>Yes</td>\n",
       "      <td>Yes</td>\n",
       "      <td>One year</td>\n",
       "      <td>Yes</td>\n",
       "      <td>Mailed check</td>\n",
       "      <td>84.80</td>\n",
       "      <td>1990.50</td>\n",
       "      <td>No</td>\n",
       "    </tr>\n",
       "    <tr>\n",
       "      <th>7039</th>\n",
       "      <td>Female</td>\n",
       "      <td>0</td>\n",
       "      <td>Yes</td>\n",
       "      <td>Yes</td>\n",
       "      <td>72</td>\n",
       "      <td>Yes</td>\n",
       "      <td>Yes</td>\n",
       "      <td>Fiber optic</td>\n",
       "      <td>No</td>\n",
       "      <td>Yes</td>\n",
       "      <td>Yes</td>\n",
       "      <td>No</td>\n",
       "      <td>Yes</td>\n",
       "      <td>Yes</td>\n",
       "      <td>One year</td>\n",
       "      <td>Yes</td>\n",
       "      <td>Credit card (automatic)</td>\n",
       "      <td>103.20</td>\n",
       "      <td>7362.90</td>\n",
       "      <td>No</td>\n",
       "    </tr>\n",
       "    <tr>\n",
       "      <th>7040</th>\n",
       "      <td>Female</td>\n",
       "      <td>0</td>\n",
       "      <td>Yes</td>\n",
       "      <td>Yes</td>\n",
       "      <td>11</td>\n",
       "      <td>No</td>\n",
       "      <td>No phone service</td>\n",
       "      <td>DSL</td>\n",
       "      <td>Yes</td>\n",
       "      <td>No</td>\n",
       "      <td>No</td>\n",
       "      <td>No</td>\n",
       "      <td>No</td>\n",
       "      <td>No</td>\n",
       "      <td>Month-to-month</td>\n",
       "      <td>Yes</td>\n",
       "      <td>Electronic check</td>\n",
       "      <td>29.60</td>\n",
       "      <td>346.45</td>\n",
       "      <td>No</td>\n",
       "    </tr>\n",
       "    <tr>\n",
       "      <th>7041</th>\n",
       "      <td>Male</td>\n",
       "      <td>1</td>\n",
       "      <td>Yes</td>\n",
       "      <td>No</td>\n",
       "      <td>4</td>\n",
       "      <td>Yes</td>\n",
       "      <td>Yes</td>\n",
       "      <td>Fiber optic</td>\n",
       "      <td>No</td>\n",
       "      <td>No</td>\n",
       "      <td>No</td>\n",
       "      <td>No</td>\n",
       "      <td>No</td>\n",
       "      <td>No</td>\n",
       "      <td>Month-to-month</td>\n",
       "      <td>Yes</td>\n",
       "      <td>Mailed check</td>\n",
       "      <td>74.40</td>\n",
       "      <td>306.60</td>\n",
       "      <td>Yes</td>\n",
       "    </tr>\n",
       "    <tr>\n",
       "      <th>7042</th>\n",
       "      <td>Male</td>\n",
       "      <td>0</td>\n",
       "      <td>No</td>\n",
       "      <td>No</td>\n",
       "      <td>66</td>\n",
       "      <td>Yes</td>\n",
       "      <td>No</td>\n",
       "      <td>Fiber optic</td>\n",
       "      <td>Yes</td>\n",
       "      <td>No</td>\n",
       "      <td>Yes</td>\n",
       "      <td>Yes</td>\n",
       "      <td>Yes</td>\n",
       "      <td>Yes</td>\n",
       "      <td>Two year</td>\n",
       "      <td>Yes</td>\n",
       "      <td>Bank transfer (automatic)</td>\n",
       "      <td>105.65</td>\n",
       "      <td>6844.50</td>\n",
       "      <td>No</td>\n",
       "    </tr>\n",
       "  </tbody>\n",
       "</table>\n",
       "<p>7043 rows × 20 columns</p>\n",
       "</div>"
      ],
      "text/plain": [
       "      gender  SeniorCitizen Partner Dependents  tenure PhoneService  \\\n",
       "0     Female              0     Yes         No       1           No   \n",
       "1       Male              0      No         No      34          Yes   \n",
       "2       Male              0      No         No       2          Yes   \n",
       "3       Male              0      No         No      45           No   \n",
       "4     Female              0      No         No       2          Yes   \n",
       "...      ...            ...     ...        ...     ...          ...   \n",
       "7038    Male              0     Yes        Yes      24          Yes   \n",
       "7039  Female              0     Yes        Yes      72          Yes   \n",
       "7040  Female              0     Yes        Yes      11           No   \n",
       "7041    Male              1     Yes         No       4          Yes   \n",
       "7042    Male              0      No         No      66          Yes   \n",
       "\n",
       "         MultipleLines InternetService OnlineSecurity OnlineBackup  \\\n",
       "0     No phone service             DSL             No          Yes   \n",
       "1                   No             DSL            Yes           No   \n",
       "2                   No             DSL            Yes          Yes   \n",
       "3     No phone service             DSL            Yes           No   \n",
       "4                   No     Fiber optic             No           No   \n",
       "...                ...             ...            ...          ...   \n",
       "7038               Yes             DSL            Yes           No   \n",
       "7039               Yes     Fiber optic             No          Yes   \n",
       "7040  No phone service             DSL            Yes           No   \n",
       "7041               Yes     Fiber optic             No           No   \n",
       "7042                No     Fiber optic            Yes           No   \n",
       "\n",
       "     DeviceProtection TechSupport StreamingTV StreamingMovies        Contract  \\\n",
       "0                  No          No          No              No  Month-to-month   \n",
       "1                 Yes          No          No              No        One year   \n",
       "2                  No          No          No              No  Month-to-month   \n",
       "3                 Yes         Yes          No              No        One year   \n",
       "4                  No          No          No              No  Month-to-month   \n",
       "...               ...         ...         ...             ...             ...   \n",
       "7038              Yes         Yes         Yes             Yes        One year   \n",
       "7039              Yes          No         Yes             Yes        One year   \n",
       "7040               No          No          No              No  Month-to-month   \n",
       "7041               No          No          No              No  Month-to-month   \n",
       "7042              Yes         Yes         Yes             Yes        Two year   \n",
       "\n",
       "     PaperlessBilling              PaymentMethod  MonthlyCharges  \\\n",
       "0                 Yes           Electronic check           29.85   \n",
       "1                  No               Mailed check           56.95   \n",
       "2                 Yes               Mailed check           53.85   \n",
       "3                  No  Bank transfer (automatic)           42.30   \n",
       "4                 Yes           Electronic check           70.70   \n",
       "...               ...                        ...             ...   \n",
       "7038              Yes               Mailed check           84.80   \n",
       "7039              Yes    Credit card (automatic)          103.20   \n",
       "7040              Yes           Electronic check           29.60   \n",
       "7041              Yes               Mailed check           74.40   \n",
       "7042              Yes  Bank transfer (automatic)          105.65   \n",
       "\n",
       "      TotalCharges Churn  \n",
       "0            29.85    No  \n",
       "1          1889.50    No  \n",
       "2           108.15   Yes  \n",
       "3          1840.75    No  \n",
       "4           151.65   Yes  \n",
       "...            ...   ...  \n",
       "7038       1990.50    No  \n",
       "7039       7362.90    No  \n",
       "7040        346.45    No  \n",
       "7041        306.60   Yes  \n",
       "7042       6844.50    No  \n",
       "\n",
       "[7043 rows x 20 columns]"
      ]
     },
     "execution_count": 49,
     "metadata": {},
     "output_type": "execute_result"
    }
   ],
   "source": [
    "df = df.drop('customerID', axis = 1)\n",
    "\n",
    "df"
   ]
  },
  {
   "cell_type": "code",
   "execution_count": 50,
   "id": "e10bd924",
   "metadata": {},
   "outputs": [],
   "source": [
    "df_transformed = df.copy()"
   ]
  },
  {
   "cell_type": "markdown",
   "id": "3ac48061",
   "metadata": {},
   "source": [
    "## One-hot Encoding"
   ]
  },
  {
   "cell_type": "code",
   "execution_count": 51,
   "id": "4e286136",
   "metadata": {},
   "outputs": [],
   "source": [
    "categorical_features = ['gender', 'SeniorCitizen', 'Partner', 'Dependents',\n",
    "       'PhoneService', 'MultipleLines', 'InternetService', 'OnlineSecurity',\n",
    "       'OnlineBackup', 'DeviceProtection', 'TechSupport', 'StreamingTV',\n",
    "       'StreamingMovies', 'Contract', 'PaperlessBilling', 'PaymentMethod']"
   ]
  },
  {
   "cell_type": "code",
   "execution_count": 52,
   "id": "8c04a5a5",
   "metadata": {},
   "outputs": [],
   "source": [
    "df_transformed = pd.get_dummies(df_transformed, columns = categorical_features)"
   ]
  },
  {
   "cell_type": "code",
   "execution_count": 53,
   "id": "f374e7d8",
   "metadata": {},
   "outputs": [
    {
     "data": {
      "text/html": [
       "<div>\n",
       "<style scoped>\n",
       "    .dataframe tbody tr th:only-of-type {\n",
       "        vertical-align: middle;\n",
       "    }\n",
       "\n",
       "    .dataframe tbody tr th {\n",
       "        vertical-align: top;\n",
       "    }\n",
       "\n",
       "    .dataframe thead th {\n",
       "        text-align: right;\n",
       "    }\n",
       "</style>\n",
       "<table border=\"1\" class=\"dataframe\">\n",
       "  <thead>\n",
       "    <tr style=\"text-align: right;\">\n",
       "      <th></th>\n",
       "      <th>tenure</th>\n",
       "      <th>MonthlyCharges</th>\n",
       "      <th>TotalCharges</th>\n",
       "      <th>Churn</th>\n",
       "      <th>gender_Female</th>\n",
       "      <th>gender_Male</th>\n",
       "      <th>SeniorCitizen_0</th>\n",
       "      <th>SeniorCitizen_1</th>\n",
       "      <th>Partner_No</th>\n",
       "      <th>Partner_Yes</th>\n",
       "      <th>...</th>\n",
       "      <th>StreamingMovies_Yes</th>\n",
       "      <th>Contract_Month-to-month</th>\n",
       "      <th>Contract_One year</th>\n",
       "      <th>Contract_Two year</th>\n",
       "      <th>PaperlessBilling_No</th>\n",
       "      <th>PaperlessBilling_Yes</th>\n",
       "      <th>PaymentMethod_Bank transfer (automatic)</th>\n",
       "      <th>PaymentMethod_Credit card (automatic)</th>\n",
       "      <th>PaymentMethod_Electronic check</th>\n",
       "      <th>PaymentMethod_Mailed check</th>\n",
       "    </tr>\n",
       "  </thead>\n",
       "  <tbody>\n",
       "    <tr>\n",
       "      <th>0</th>\n",
       "      <td>1</td>\n",
       "      <td>29.85</td>\n",
       "      <td>29.85</td>\n",
       "      <td>0</td>\n",
       "      <td>1</td>\n",
       "      <td>0</td>\n",
       "      <td>1</td>\n",
       "      <td>0</td>\n",
       "      <td>0</td>\n",
       "      <td>1</td>\n",
       "      <td>...</td>\n",
       "      <td>0</td>\n",
       "      <td>1</td>\n",
       "      <td>0</td>\n",
       "      <td>0</td>\n",
       "      <td>0</td>\n",
       "      <td>1</td>\n",
       "      <td>0</td>\n",
       "      <td>0</td>\n",
       "      <td>1</td>\n",
       "      <td>0</td>\n",
       "    </tr>\n",
       "    <tr>\n",
       "      <th>1</th>\n",
       "      <td>34</td>\n",
       "      <td>56.95</td>\n",
       "      <td>1889.50</td>\n",
       "      <td>0</td>\n",
       "      <td>0</td>\n",
       "      <td>1</td>\n",
       "      <td>1</td>\n",
       "      <td>0</td>\n",
       "      <td>1</td>\n",
       "      <td>0</td>\n",
       "      <td>...</td>\n",
       "      <td>0</td>\n",
       "      <td>0</td>\n",
       "      <td>1</td>\n",
       "      <td>0</td>\n",
       "      <td>1</td>\n",
       "      <td>0</td>\n",
       "      <td>0</td>\n",
       "      <td>0</td>\n",
       "      <td>0</td>\n",
       "      <td>1</td>\n",
       "    </tr>\n",
       "    <tr>\n",
       "      <th>2</th>\n",
       "      <td>2</td>\n",
       "      <td>53.85</td>\n",
       "      <td>108.15</td>\n",
       "      <td>1</td>\n",
       "      <td>0</td>\n",
       "      <td>1</td>\n",
       "      <td>1</td>\n",
       "      <td>0</td>\n",
       "      <td>1</td>\n",
       "      <td>0</td>\n",
       "      <td>...</td>\n",
       "      <td>0</td>\n",
       "      <td>1</td>\n",
       "      <td>0</td>\n",
       "      <td>0</td>\n",
       "      <td>0</td>\n",
       "      <td>1</td>\n",
       "      <td>0</td>\n",
       "      <td>0</td>\n",
       "      <td>0</td>\n",
       "      <td>1</td>\n",
       "    </tr>\n",
       "    <tr>\n",
       "      <th>3</th>\n",
       "      <td>45</td>\n",
       "      <td>42.30</td>\n",
       "      <td>1840.75</td>\n",
       "      <td>0</td>\n",
       "      <td>0</td>\n",
       "      <td>1</td>\n",
       "      <td>1</td>\n",
       "      <td>0</td>\n",
       "      <td>1</td>\n",
       "      <td>0</td>\n",
       "      <td>...</td>\n",
       "      <td>0</td>\n",
       "      <td>0</td>\n",
       "      <td>1</td>\n",
       "      <td>0</td>\n",
       "      <td>1</td>\n",
       "      <td>0</td>\n",
       "      <td>1</td>\n",
       "      <td>0</td>\n",
       "      <td>0</td>\n",
       "      <td>0</td>\n",
       "    </tr>\n",
       "    <tr>\n",
       "      <th>4</th>\n",
       "      <td>2</td>\n",
       "      <td>70.70</td>\n",
       "      <td>151.65</td>\n",
       "      <td>1</td>\n",
       "      <td>1</td>\n",
       "      <td>0</td>\n",
       "      <td>1</td>\n",
       "      <td>0</td>\n",
       "      <td>1</td>\n",
       "      <td>0</td>\n",
       "      <td>...</td>\n",
       "      <td>0</td>\n",
       "      <td>1</td>\n",
       "      <td>0</td>\n",
       "      <td>0</td>\n",
       "      <td>0</td>\n",
       "      <td>1</td>\n",
       "      <td>0</td>\n",
       "      <td>0</td>\n",
       "      <td>1</td>\n",
       "      <td>0</td>\n",
       "    </tr>\n",
       "    <tr>\n",
       "      <th>...</th>\n",
       "      <td>...</td>\n",
       "      <td>...</td>\n",
       "      <td>...</td>\n",
       "      <td>...</td>\n",
       "      <td>...</td>\n",
       "      <td>...</td>\n",
       "      <td>...</td>\n",
       "      <td>...</td>\n",
       "      <td>...</td>\n",
       "      <td>...</td>\n",
       "      <td>...</td>\n",
       "      <td>...</td>\n",
       "      <td>...</td>\n",
       "      <td>...</td>\n",
       "      <td>...</td>\n",
       "      <td>...</td>\n",
       "      <td>...</td>\n",
       "      <td>...</td>\n",
       "      <td>...</td>\n",
       "      <td>...</td>\n",
       "      <td>...</td>\n",
       "    </tr>\n",
       "    <tr>\n",
       "      <th>7038</th>\n",
       "      <td>24</td>\n",
       "      <td>84.80</td>\n",
       "      <td>1990.50</td>\n",
       "      <td>0</td>\n",
       "      <td>0</td>\n",
       "      <td>1</td>\n",
       "      <td>1</td>\n",
       "      <td>0</td>\n",
       "      <td>0</td>\n",
       "      <td>1</td>\n",
       "      <td>...</td>\n",
       "      <td>1</td>\n",
       "      <td>0</td>\n",
       "      <td>1</td>\n",
       "      <td>0</td>\n",
       "      <td>0</td>\n",
       "      <td>1</td>\n",
       "      <td>0</td>\n",
       "      <td>0</td>\n",
       "      <td>0</td>\n",
       "      <td>1</td>\n",
       "    </tr>\n",
       "    <tr>\n",
       "      <th>7039</th>\n",
       "      <td>72</td>\n",
       "      <td>103.20</td>\n",
       "      <td>7362.90</td>\n",
       "      <td>0</td>\n",
       "      <td>1</td>\n",
       "      <td>0</td>\n",
       "      <td>1</td>\n",
       "      <td>0</td>\n",
       "      <td>0</td>\n",
       "      <td>1</td>\n",
       "      <td>...</td>\n",
       "      <td>1</td>\n",
       "      <td>0</td>\n",
       "      <td>1</td>\n",
       "      <td>0</td>\n",
       "      <td>0</td>\n",
       "      <td>1</td>\n",
       "      <td>0</td>\n",
       "      <td>1</td>\n",
       "      <td>0</td>\n",
       "      <td>0</td>\n",
       "    </tr>\n",
       "    <tr>\n",
       "      <th>7040</th>\n",
       "      <td>11</td>\n",
       "      <td>29.60</td>\n",
       "      <td>346.45</td>\n",
       "      <td>0</td>\n",
       "      <td>1</td>\n",
       "      <td>0</td>\n",
       "      <td>1</td>\n",
       "      <td>0</td>\n",
       "      <td>0</td>\n",
       "      <td>1</td>\n",
       "      <td>...</td>\n",
       "      <td>0</td>\n",
       "      <td>1</td>\n",
       "      <td>0</td>\n",
       "      <td>0</td>\n",
       "      <td>0</td>\n",
       "      <td>1</td>\n",
       "      <td>0</td>\n",
       "      <td>0</td>\n",
       "      <td>1</td>\n",
       "      <td>0</td>\n",
       "    </tr>\n",
       "    <tr>\n",
       "      <th>7041</th>\n",
       "      <td>4</td>\n",
       "      <td>74.40</td>\n",
       "      <td>306.60</td>\n",
       "      <td>1</td>\n",
       "      <td>0</td>\n",
       "      <td>1</td>\n",
       "      <td>0</td>\n",
       "      <td>1</td>\n",
       "      <td>0</td>\n",
       "      <td>1</td>\n",
       "      <td>...</td>\n",
       "      <td>0</td>\n",
       "      <td>1</td>\n",
       "      <td>0</td>\n",
       "      <td>0</td>\n",
       "      <td>0</td>\n",
       "      <td>1</td>\n",
       "      <td>0</td>\n",
       "      <td>0</td>\n",
       "      <td>0</td>\n",
       "      <td>1</td>\n",
       "    </tr>\n",
       "    <tr>\n",
       "      <th>7042</th>\n",
       "      <td>66</td>\n",
       "      <td>105.65</td>\n",
       "      <td>6844.50</td>\n",
       "      <td>0</td>\n",
       "      <td>0</td>\n",
       "      <td>1</td>\n",
       "      <td>1</td>\n",
       "      <td>0</td>\n",
       "      <td>1</td>\n",
       "      <td>0</td>\n",
       "      <td>...</td>\n",
       "      <td>1</td>\n",
       "      <td>0</td>\n",
       "      <td>0</td>\n",
       "      <td>1</td>\n",
       "      <td>0</td>\n",
       "      <td>1</td>\n",
       "      <td>1</td>\n",
       "      <td>0</td>\n",
       "      <td>0</td>\n",
       "      <td>0</td>\n",
       "    </tr>\n",
       "  </tbody>\n",
       "</table>\n",
       "<p>7043 rows × 47 columns</p>\n",
       "</div>"
      ],
      "text/plain": [
       "      tenure  MonthlyCharges  TotalCharges  Churn  gender_Female  gender_Male  \\\n",
       "0          1           29.85         29.85      0              1            0   \n",
       "1         34           56.95       1889.50      0              0            1   \n",
       "2          2           53.85        108.15      1              0            1   \n",
       "3         45           42.30       1840.75      0              0            1   \n",
       "4          2           70.70        151.65      1              1            0   \n",
       "...      ...             ...           ...    ...            ...          ...   \n",
       "7038      24           84.80       1990.50      0              0            1   \n",
       "7039      72          103.20       7362.90      0              1            0   \n",
       "7040      11           29.60        346.45      0              1            0   \n",
       "7041       4           74.40        306.60      1              0            1   \n",
       "7042      66          105.65       6844.50      0              0            1   \n",
       "\n",
       "      SeniorCitizen_0  SeniorCitizen_1  Partner_No  Partner_Yes  ...  \\\n",
       "0                   1                0           0            1  ...   \n",
       "1                   1                0           1            0  ...   \n",
       "2                   1                0           1            0  ...   \n",
       "3                   1                0           1            0  ...   \n",
       "4                   1                0           1            0  ...   \n",
       "...               ...              ...         ...          ...  ...   \n",
       "7038                1                0           0            1  ...   \n",
       "7039                1                0           0            1  ...   \n",
       "7040                1                0           0            1  ...   \n",
       "7041                0                1           0            1  ...   \n",
       "7042                1                0           1            0  ...   \n",
       "\n",
       "      StreamingMovies_Yes  Contract_Month-to-month  Contract_One year  \\\n",
       "0                       0                        1                  0   \n",
       "1                       0                        0                  1   \n",
       "2                       0                        1                  0   \n",
       "3                       0                        0                  1   \n",
       "4                       0                        1                  0   \n",
       "...                   ...                      ...                ...   \n",
       "7038                    1                        0                  1   \n",
       "7039                    1                        0                  1   \n",
       "7040                    0                        1                  0   \n",
       "7041                    0                        1                  0   \n",
       "7042                    1                        0                  0   \n",
       "\n",
       "      Contract_Two year  PaperlessBilling_No  PaperlessBilling_Yes  \\\n",
       "0                     0                    0                     1   \n",
       "1                     0                    1                     0   \n",
       "2                     0                    0                     1   \n",
       "3                     0                    1                     0   \n",
       "4                     0                    0                     1   \n",
       "...                 ...                  ...                   ...   \n",
       "7038                  0                    0                     1   \n",
       "7039                  0                    0                     1   \n",
       "7040                  0                    0                     1   \n",
       "7041                  0                    0                     1   \n",
       "7042                  1                    0                     1   \n",
       "\n",
       "      PaymentMethod_Bank transfer (automatic)  \\\n",
       "0                                           0   \n",
       "1                                           0   \n",
       "2                                           0   \n",
       "3                                           1   \n",
       "4                                           0   \n",
       "...                                       ...   \n",
       "7038                                        0   \n",
       "7039                                        0   \n",
       "7040                                        0   \n",
       "7041                                        0   \n",
       "7042                                        1   \n",
       "\n",
       "      PaymentMethod_Credit card (automatic)  PaymentMethod_Electronic check  \\\n",
       "0                                         0                               1   \n",
       "1                                         0                               0   \n",
       "2                                         0                               0   \n",
       "3                                         0                               0   \n",
       "4                                         0                               1   \n",
       "...                                     ...                             ...   \n",
       "7038                                      0                               0   \n",
       "7039                                      1                               0   \n",
       "7040                                      0                               1   \n",
       "7041                                      0                               0   \n",
       "7042                                      0                               0   \n",
       "\n",
       "      PaymentMethod_Mailed check  \n",
       "0                              0  \n",
       "1                              1  \n",
       "2                              1  \n",
       "3                              0  \n",
       "4                              0  \n",
       "...                          ...  \n",
       "7038                           1  \n",
       "7039                           0  \n",
       "7040                           0  \n",
       "7041                           1  \n",
       "7042                           0  \n",
       "\n",
       "[7043 rows x 47 columns]"
      ]
     },
     "execution_count": 53,
     "metadata": {},
     "output_type": "execute_result"
    }
   ],
   "source": [
    "le = LabelEncoder()\n",
    "\n",
    "df_transformed['Churn'] = le.fit_transform(df_transformed['Churn'])\n",
    "    \n",
    "df_transformed"
   ]
  },
  {
   "cell_type": "markdown",
   "id": "ff9154b6",
   "metadata": {},
   "source": [
    "## Missing Value"
   ]
  },
  {
   "cell_type": "code",
   "execution_count": 54,
   "id": "33e1ab65",
   "metadata": {},
   "outputs": [
    {
     "name": "stdout",
     "output_type": "stream",
     "text": [
      "<class 'pandas.core.frame.DataFrame'>\n",
      "RangeIndex: 7043 entries, 0 to 7042\n",
      "Data columns (total 47 columns):\n",
      " #   Column                                   Non-Null Count  Dtype  \n",
      "---  ------                                   --------------  -----  \n",
      " 0   tenure                                   7043 non-null   int64  \n",
      " 1   MonthlyCharges                           7043 non-null   float64\n",
      " 2   TotalCharges                             7032 non-null   float64\n",
      " 3   Churn                                    7043 non-null   int32  \n",
      " 4   gender_Female                            7043 non-null   uint8  \n",
      " 5   gender_Male                              7043 non-null   uint8  \n",
      " 6   SeniorCitizen_0                          7043 non-null   uint8  \n",
      " 7   SeniorCitizen_1                          7043 non-null   uint8  \n",
      " 8   Partner_No                               7043 non-null   uint8  \n",
      " 9   Partner_Yes                              7043 non-null   uint8  \n",
      " 10  Dependents_No                            7043 non-null   uint8  \n",
      " 11  Dependents_Yes                           7043 non-null   uint8  \n",
      " 12  PhoneService_No                          7043 non-null   uint8  \n",
      " 13  PhoneService_Yes                         7043 non-null   uint8  \n",
      " 14  MultipleLines_No                         7043 non-null   uint8  \n",
      " 15  MultipleLines_No phone service           7043 non-null   uint8  \n",
      " 16  MultipleLines_Yes                        7043 non-null   uint8  \n",
      " 17  InternetService_DSL                      7043 non-null   uint8  \n",
      " 18  InternetService_Fiber optic              7043 non-null   uint8  \n",
      " 19  InternetService_No                       7043 non-null   uint8  \n",
      " 20  OnlineSecurity_No                        7043 non-null   uint8  \n",
      " 21  OnlineSecurity_No internet service       7043 non-null   uint8  \n",
      " 22  OnlineSecurity_Yes                       7043 non-null   uint8  \n",
      " 23  OnlineBackup_No                          7043 non-null   uint8  \n",
      " 24  OnlineBackup_No internet service         7043 non-null   uint8  \n",
      " 25  OnlineBackup_Yes                         7043 non-null   uint8  \n",
      " 26  DeviceProtection_No                      7043 non-null   uint8  \n",
      " 27  DeviceProtection_No internet service     7043 non-null   uint8  \n",
      " 28  DeviceProtection_Yes                     7043 non-null   uint8  \n",
      " 29  TechSupport_No                           7043 non-null   uint8  \n",
      " 30  TechSupport_No internet service          7043 non-null   uint8  \n",
      " 31  TechSupport_Yes                          7043 non-null   uint8  \n",
      " 32  StreamingTV_No                           7043 non-null   uint8  \n",
      " 33  StreamingTV_No internet service          7043 non-null   uint8  \n",
      " 34  StreamingTV_Yes                          7043 non-null   uint8  \n",
      " 35  StreamingMovies_No                       7043 non-null   uint8  \n",
      " 36  StreamingMovies_No internet service      7043 non-null   uint8  \n",
      " 37  StreamingMovies_Yes                      7043 non-null   uint8  \n",
      " 38  Contract_Month-to-month                  7043 non-null   uint8  \n",
      " 39  Contract_One year                        7043 non-null   uint8  \n",
      " 40  Contract_Two year                        7043 non-null   uint8  \n",
      " 41  PaperlessBilling_No                      7043 non-null   uint8  \n",
      " 42  PaperlessBilling_Yes                     7043 non-null   uint8  \n",
      " 43  PaymentMethod_Bank transfer (automatic)  7043 non-null   uint8  \n",
      " 44  PaymentMethod_Credit card (automatic)    7043 non-null   uint8  \n",
      " 45  PaymentMethod_Electronic check           7043 non-null   uint8  \n",
      " 46  PaymentMethod_Mailed check               7043 non-null   uint8  \n",
      "dtypes: float64(2), int32(1), int64(1), uint8(43)\n",
      "memory usage: 488.5 KB\n"
     ]
    }
   ],
   "source": [
    "df_transformed.info()"
   ]
  },
  {
   "cell_type": "code",
   "execution_count": 55,
   "id": "5d832460",
   "metadata": {},
   "outputs": [
    {
     "name": "stdout",
     "output_type": "stream",
     "text": [
      "<class 'pandas.core.frame.DataFrame'>\n",
      "RangeIndex: 7043 entries, 0 to 7042\n",
      "Data columns (total 47 columns):\n",
      " #   Column                                   Non-Null Count  Dtype  \n",
      "---  ------                                   --------------  -----  \n",
      " 0   tenure                                   7043 non-null   int64  \n",
      " 1   MonthlyCharges                           7043 non-null   float64\n",
      " 2   TotalCharges                             7043 non-null   float64\n",
      " 3   Churn                                    7043 non-null   int32  \n",
      " 4   gender_Female                            7043 non-null   uint8  \n",
      " 5   gender_Male                              7043 non-null   uint8  \n",
      " 6   SeniorCitizen_0                          7043 non-null   uint8  \n",
      " 7   SeniorCitizen_1                          7043 non-null   uint8  \n",
      " 8   Partner_No                               7043 non-null   uint8  \n",
      " 9   Partner_Yes                              7043 non-null   uint8  \n",
      " 10  Dependents_No                            7043 non-null   uint8  \n",
      " 11  Dependents_Yes                           7043 non-null   uint8  \n",
      " 12  PhoneService_No                          7043 non-null   uint8  \n",
      " 13  PhoneService_Yes                         7043 non-null   uint8  \n",
      " 14  MultipleLines_No                         7043 non-null   uint8  \n",
      " 15  MultipleLines_No phone service           7043 non-null   uint8  \n",
      " 16  MultipleLines_Yes                        7043 non-null   uint8  \n",
      " 17  InternetService_DSL                      7043 non-null   uint8  \n",
      " 18  InternetService_Fiber optic              7043 non-null   uint8  \n",
      " 19  InternetService_No                       7043 non-null   uint8  \n",
      " 20  OnlineSecurity_No                        7043 non-null   uint8  \n",
      " 21  OnlineSecurity_No internet service       7043 non-null   uint8  \n",
      " 22  OnlineSecurity_Yes                       7043 non-null   uint8  \n",
      " 23  OnlineBackup_No                          7043 non-null   uint8  \n",
      " 24  OnlineBackup_No internet service         7043 non-null   uint8  \n",
      " 25  OnlineBackup_Yes                         7043 non-null   uint8  \n",
      " 26  DeviceProtection_No                      7043 non-null   uint8  \n",
      " 27  DeviceProtection_No internet service     7043 non-null   uint8  \n",
      " 28  DeviceProtection_Yes                     7043 non-null   uint8  \n",
      " 29  TechSupport_No                           7043 non-null   uint8  \n",
      " 30  TechSupport_No internet service          7043 non-null   uint8  \n",
      " 31  TechSupport_Yes                          7043 non-null   uint8  \n",
      " 32  StreamingTV_No                           7043 non-null   uint8  \n",
      " 33  StreamingTV_No internet service          7043 non-null   uint8  \n",
      " 34  StreamingTV_Yes                          7043 non-null   uint8  \n",
      " 35  StreamingMovies_No                       7043 non-null   uint8  \n",
      " 36  StreamingMovies_No internet service      7043 non-null   uint8  \n",
      " 37  StreamingMovies_Yes                      7043 non-null   uint8  \n",
      " 38  Contract_Month-to-month                  7043 non-null   uint8  \n",
      " 39  Contract_One year                        7043 non-null   uint8  \n",
      " 40  Contract_Two year                        7043 non-null   uint8  \n",
      " 41  PaperlessBilling_No                      7043 non-null   uint8  \n",
      " 42  PaperlessBilling_Yes                     7043 non-null   uint8  \n",
      " 43  PaymentMethod_Bank transfer (automatic)  7043 non-null   uint8  \n",
      " 44  PaymentMethod_Credit card (automatic)    7043 non-null   uint8  \n",
      " 45  PaymentMethod_Electronic check           7043 non-null   uint8  \n",
      " 46  PaymentMethod_Mailed check               7043 non-null   uint8  \n",
      "dtypes: float64(2), int32(1), int64(1), uint8(43)\n",
      "memory usage: 488.5 KB\n"
     ]
    }
   ],
   "source": [
    "df_transformed['TotalCharges'].fillna(df_transformed['TotalCharges'].mean(), inplace=True)\n",
    "\n",
    "df_transformed.info()"
   ]
  },
  {
   "cell_type": "markdown",
   "id": "e763b9a8",
   "metadata": {},
   "source": [
    "## Split Dataset"
   ]
  },
  {
   "cell_type": "code",
   "execution_count": 56,
   "id": "20502d0a",
   "metadata": {},
   "outputs": [],
   "source": [
    "df_transformed_copy = df_transformed.copy()"
   ]
  },
  {
   "cell_type": "code",
   "execution_count": 57,
   "id": "568e627c",
   "metadata": {},
   "outputs": [
    {
     "data": {
      "image/png": "[encoded data removed]",
      "text/plain": [
       "<Figure size 1440x1296 with 2 Axes>"
      ]
     },
     "metadata": {
      "needs_background": "light"
     },
     "output_type": "display_data"
    }
   ],
   "source": [
    "corr = df_transformed_copy.corr()\n",
    "plt.figure(figsize=(20,18))\n",
    "sns.heatmap(corr, cmap='Purples')\n",
    "plt.show()"
   ]
  },
  {
   "cell_type": "code",
   "execution_count": 58,
   "id": "1af11934",
   "metadata": {},
   "outputs": [],
   "source": [
    "X = df_transformed_copy.drop(columns='Churn')\n",
    "y = df_transformed_copy['Churn']\n",
    "\n",
    "X_train, X_test, y_train, y_test = train_test_split(X, y, test_size=0.2, random_state=42, shuffle=True, stratify=y)"
   ]
  },
  {
   "cell_type": "code",
   "execution_count": 59,
   "id": "349b6125",
   "metadata": {},
   "outputs": [
    {
     "data": {
      "text/plain": [
       "array([[3.50000e+01, 4.92000e+01, 1.70165e+03, ..., 0.00000e+00,\n",
       "        1.00000e+00, 0.00000e+00],\n",
       "       [1.50000e+01, 7.51000e+01, 1.15155e+03, ..., 0.00000e+00,\n",
       "        0.00000e+00, 1.00000e+00],\n",
       "       [1.30000e+01, 4.05500e+01, 5.90350e+02, ..., 0.00000e+00,\n",
       "        0.00000e+00, 1.00000e+00],\n",
       "       ...,\n",
       "       [2.50000e+01, 1.02800e+02, 2.66020e+03, ..., 0.00000e+00,\n",
       "        0.00000e+00, 1.00000e+00],\n",
       "       [2.40000e+01, 2.04000e+01, 4.82800e+02, ..., 1.00000e+00,\n",
       "        0.00000e+00, 0.00000e+00],\n",
       "       [6.00000e+00, 2.06500e+01, 1.09300e+02, ..., 0.00000e+00,\n",
       "        0.00000e+00, 1.00000e+00]])"
      ]
     },
     "execution_count": 59,
     "metadata": {},
     "output_type": "execute_result"
    }
   ],
   "source": [
    "np.array(X_train)"
   ]
  },
  {
   "cell_type": "markdown",
   "id": "d6273524",
   "metadata": {},
   "source": [
    "## Data Scaling"
   ]
  },
  {
   "cell_type": "code",
   "execution_count": 60,
   "id": "acb2b22f",
   "metadata": {},
   "outputs": [
    {
     "name": "stdout",
     "output_type": "stream",
     "text": [
      "<class 'pandas.core.frame.DataFrame'>\n",
      "Int64Index: 5634 entries, 3738 to 5639\n",
      "Data columns (total 46 columns):\n",
      " #   Column                                   Non-Null Count  Dtype  \n",
      "---  ------                                   --------------  -----  \n",
      " 0   tenure                                   5634 non-null   int64  \n",
      " 1   MonthlyCharges                           5634 non-null   float64\n",
      " 2   TotalCharges                             5634 non-null   float64\n",
      " 3   gender_Female                            5634 non-null   uint8  \n",
      " 4   gender_Male                              5634 non-null   uint8  \n",
      " 5   SeniorCitizen_0                          5634 non-null   uint8  \n",
      " 6   SeniorCitizen_1                          5634 non-null   uint8  \n",
      " 7   Partner_No                               5634 non-null   uint8  \n",
      " 8   Partner_Yes                              5634 non-null   uint8  \n",
      " 9   Dependents_No                            5634 non-null   uint8  \n",
      " 10  Dependents_Yes                           5634 non-null   uint8  \n",
      " 11  PhoneService_No                          5634 non-null   uint8  \n",
      " 12  PhoneService_Yes                         5634 non-null   uint8  \n",
      " 13  MultipleLines_No                         5634 non-null   uint8  \n",
      " 14  MultipleLines_No phone service           5634 non-null   uint8  \n",
      " 15  MultipleLines_Yes                        5634 non-null   uint8  \n",
      " 16  InternetService_DSL                      5634 non-null   uint8  \n",
      " 17  InternetService_Fiber optic              5634 non-null   uint8  \n",
      " 18  InternetService_No                       5634 non-null   uint8  \n",
      " 19  OnlineSecurity_No                        5634 non-null   uint8  \n",
      " 20  OnlineSecurity_No internet service       5634 non-null   uint8  \n",
      " 21  OnlineSecurity_Yes                       5634 non-null   uint8  \n",
      " 22  OnlineBackup_No                          5634 non-null   uint8  \n",
      " 23  OnlineBackup_No internet service         5634 non-null   uint8  \n",
      " 24  OnlineBackup_Yes                         5634 non-null   uint8  \n",
      " 25  DeviceProtection_No                      5634 non-null   uint8  \n",
      " 26  DeviceProtection_No internet service     5634 non-null   uint8  \n",
      " 27  DeviceProtection_Yes                     5634 non-null   uint8  \n",
      " 28  TechSupport_No                           5634 non-null   uint8  \n",
      " 29  TechSupport_No internet service          5634 non-null   uint8  \n",
      " 30  TechSupport_Yes                          5634 non-null   uint8  \n",
      " 31  StreamingTV_No                           5634 non-null   uint8  \n",
      " 32  StreamingTV_No internet service          5634 non-null   uint8  \n",
      " 33  StreamingTV_Yes                          5634 non-null   uint8  \n",
      " 34  StreamingMovies_No                       5634 non-null   uint8  \n",
      " 35  StreamingMovies_No internet service      5634 non-null   uint8  \n",
      " 36  StreamingMovies_Yes                      5634 non-null   uint8  \n",
      " 37  Contract_Month-to-month                  5634 non-null   uint8  \n",
      " 38  Contract_One year                        5634 non-null   uint8  \n",
      " 39  Contract_Two year                        5634 non-null   uint8  \n",
      " 40  PaperlessBilling_No                      5634 non-null   uint8  \n",
      " 41  PaperlessBilling_Yes                     5634 non-null   uint8  \n",
      " 42  PaymentMethod_Bank transfer (automatic)  5634 non-null   uint8  \n",
      " 43  PaymentMethod_Credit card (automatic)    5634 non-null   uint8  \n",
      " 44  PaymentMethod_Electronic check           5634 non-null   uint8  \n",
      " 45  PaymentMethod_Mailed check               5634 non-null   uint8  \n",
      "dtypes: float64(2), int64(1), uint8(43)\n",
      "memory usage: 412.6 KB\n"
     ]
    }
   ],
   "source": [
    "X_train.info()"
   ]
  },
  {
   "cell_type": "code",
   "execution_count": 61,
   "id": "c053f7cb",
   "metadata": {},
   "outputs": [],
   "source": [
    "numeric_features = X_train.select_dtypes(include=['float64', 'int64']).columns\n",
    "categorical_features = X_train.select_dtypes(include=['uint8']).columns\n",
    "\n",
    "preprocessor = ColumnTransformer(transformers=[('numeric', MinMaxScaler(), numeric_features)],\n",
    "                                 remainder='passthrough')\n",
    "\n",
    "X_train = preprocessor.fit_transform(X_train)\n",
    "X_test = preprocessor.transform(X_test)"
   ]
  },
  {
   "cell_type": "code",
   "execution_count": 57,
   "id": "45ea3281",
   "metadata": {},
   "outputs": [
    {
     "data": {
      "text/plain": [
       "array([[0.48611111, 0.30692576, 0.19418529, ..., 0.        , 1.        ,\n",
       "        0.        ],\n",
       "       [0.20833333, 0.56502242, 0.13070696, ..., 0.        , 0.        ,\n",
       "        1.        ],\n",
       "       [0.18055556, 0.22072745, 0.06594776, ..., 0.        , 0.        ,\n",
       "        1.        ],\n",
       "       ...,\n",
       "       [0.34722222, 0.8410563 , 0.30479636, ..., 0.        , 0.        ,\n",
       "        1.        ],\n",
       "       [0.33333333, 0.01993024, 0.05353712, ..., 1.        , 0.        ,\n",
       "        0.        ],\n",
       "       [0.08333333, 0.02242152, 0.0104374 , ..., 0.        , 0.        ,\n",
       "        1.        ]])"
      ]
     },
     "execution_count": 57,
     "metadata": {},
     "output_type": "execute_result"
    }
   ],
   "source": [
    "X_train"
   ]
  },
  {
   "cell_type": "markdown",
   "id": "59d0aa2b",
   "metadata": {},
   "source": [
    "# Modeling"
   ]
  },
  {
   "cell_type": "code",
   "execution_count": 62,
   "id": "f649ece1",
   "metadata": {},
   "outputs": [],
   "source": [
    "stratified_kfold = StratifiedKFold(n_splits=5, shuffle=True, random_state=42)"
   ]
  },
  {
   "cell_type": "markdown",
   "id": "16f8cbd9",
   "metadata": {},
   "source": [
    "## Logistic Regression"
   ]
  },
  {
   "cell_type": "code",
   "execution_count": 63,
   "id": "229680aa",
   "metadata": {},
   "outputs": [],
   "source": [
    "pipeline_lr = imbpipeline(steps = [['smote', SMOTE(sampling_strategy = 1)],\n",
    "                                ['classifier', LogisticRegression(random_state=42)]])"
   ]
  },
  {
   "cell_type": "code",
   "execution_count": 64,
   "id": "2ba62571",
   "metadata": {},
   "outputs": [],
   "source": [
    "param_lr = {'classifier__C':[0.001, 0.01, 0.1, 1, 10, 100, 1000]}\n",
    "random_search_lr = RandomizedSearchCV(estimator=pipeline_lr,\n",
    "                           param_distributions=param_lr,\n",
    "                           scoring='roc_auc',\n",
    "                           cv=stratified_kfold,\n",
    "                           n_jobs=-1)"
   ]
  },
  {
   "cell_type": "code",
   "execution_count": 65,
   "id": "a3beeb3a",
   "metadata": {},
   "outputs": [
    {
     "name": "stderr",
     "output_type": "stream",
     "text": [
      "C:\\ProgramData\\Anaconda3\\lib\\site-packages\\sklearn\\model_selection\\_search.py:306: UserWarning: The total space of parameters 7 is smaller than n_iter=10. Running 7 iterations. For exhaustive searches, use GridSearchCV.\n",
      "  warnings.warn(\n"
     ]
    },
    {
     "name": "stdout",
     "output_type": "stream",
     "text": [
      "Cross-validation score: 0.8458311308057469\n",
      "Test score: 0.839486941021468\n"
     ]
    }
   ],
   "source": [
    "random_search_lr.fit(X_train, y_train)\n",
    "\n",
    "cv_score_lr = random_search_lr.best_score_\n",
    "\n",
    "test_lr = random_search_lr.score(X_test, y_test)\n",
    "print(f'Cross-validation score: {cv_score_lr}\\nTest score: {test_lr}')"
   ]
  },
  {
   "cell_type": "code",
   "execution_count": 66,
   "id": "bec3831b",
   "metadata": {},
   "outputs": [],
   "source": [
    "y_pred_lr = random_search_lr.best_estimator_.predict(X_test)"
   ]
  },
  {
   "cell_type": "code",
   "execution_count": 67,
   "id": "5aa0a1d4",
   "metadata": {},
   "outputs": [
    {
     "data": {
      "text/plain": [
       "0.7519517424888269"
      ]
     },
     "execution_count": 67,
     "metadata": {},
     "output_type": "execute_result"
    }
   ],
   "source": [
    "roc_auc_score(y_test, y_pred_lr)"
   ]
  },
  {
   "cell_type": "code",
   "execution_count": 68,
   "id": "0dc438f7",
   "metadata": {},
   "outputs": [
    {
     "name": "stdout",
     "output_type": "stream",
     "text": [
      "              precision    recall  f1-score   support\n",
      "\n",
      "           0       0.90      0.73      0.81      1035\n",
      "           1       0.51      0.78      0.61       374\n",
      "\n",
      "    accuracy                           0.74      1409\n",
      "   macro avg       0.70      0.75      0.71      1409\n",
      "weighted avg       0.80      0.74      0.75      1409\n",
      "\n"
     ]
    }
   ],
   "source": [
    "print(classification_report(y_test, y_pred_lr))"
   ]
  },
  {
   "cell_type": "markdown",
   "id": "90d5048a",
   "metadata": {},
   "source": [
    "## Random Forest"
   ]
  },
  {
   "cell_type": "code",
   "execution_count": 69,
   "id": "b6090adf",
   "metadata": {},
   "outputs": [],
   "source": [
    "pipeline_rf = imbpipeline(steps = [['smote', SMOTE(sampling_strategy = 1)],\n",
    "                                ['rf', RandomForestClassifier()]])"
   ]
  },
  {
   "cell_type": "code",
   "execution_count": 70,
   "id": "05590a50",
   "metadata": {},
   "outputs": [],
   "source": [
    "param_rf = {'rf__max_depth': [10, 20, 30],\n",
    "            'rf__max_features': ['auto', 'sqrt'],\n",
    "            'rf__min_samples_leaf': [1, 2, 4],\n",
    "            'rf__min_samples_split': [2, 5, 10],\n",
    "            'rf__n_estimators': [100, 500, 1000]}\n",
    "random_search_rf = RandomizedSearchCV(estimator=pipeline_rf,\n",
    "                           param_distributions=param_rf,\n",
    "                           scoring='roc_auc',\n",
    "                           cv=stratified_kfold,\n",
    "                           n_jobs=-1)"
   ]
  },
  {
   "cell_type": "code",
   "execution_count": 73,
   "id": "d4fa9ba4",
   "metadata": {},
   "outputs": [
    {
     "name": "stdout",
     "output_type": "stream",
     "text": [
      "Cross-validation score: 0.8420046631946294\n",
      "Test score: 0.8360691312097961\n"
     ]
    }
   ],
   "source": [
    "random_search_rf.fit(X_train, y_train)\n",
    "\n",
    "cv_score_rf = random_search_rf.best_score_\n",
    "\n",
    "test_rf = random_search_rf.score(X_test, y_test)\n",
    "print(f'Cross-validation score: {cv_score_rf}\\nTest score: {test_rf}')"
   ]
  },
  {
   "cell_type": "code",
   "execution_count": 74,
   "id": "a7454fd5",
   "metadata": {},
   "outputs": [],
   "source": [
    "y_pred_rf = random_search_rf.predict(X_test)"
   ]
  },
  {
   "cell_type": "code",
   "execution_count": 75,
   "id": "ed06c367",
   "metadata": {},
   "outputs": [
    {
     "name": "stdout",
     "output_type": "stream",
     "text": [
      "              precision    recall  f1-score   support\n",
      "\n",
      "           0       0.88      0.79      0.83      1035\n",
      "           1       0.54      0.70      0.61       374\n",
      "\n",
      "    accuracy                           0.76      1409\n",
      "   macro avg       0.71      0.74      0.72      1409\n",
      "weighted avg       0.79      0.76      0.77      1409\n",
      "\n"
     ]
    }
   ],
   "source": [
    "print(classification_report(y_test, y_pred_rf))"
   ]
  },
  {
   "cell_type": "code",
   "execution_count": 76,
   "id": "9b5eb28f",
   "metadata": {},
   "outputs": [
    {
     "data": {
      "text/plain": [
       "0.7439871864424294"
      ]
     },
     "execution_count": 76,
     "metadata": {},
     "output_type": "execute_result"
    }
   ],
   "source": [
    "roc_auc_score(y_test, y_pred_rf)"
   ]
  },
  {
   "cell_type": "markdown",
   "id": "55b54ca5",
   "metadata": {},
   "source": [
    "## Xgboost"
   ]
  },
  {
   "cell_type": "code",
   "execution_count": 77,
   "id": "d2c34b9e",
   "metadata": {},
   "outputs": [],
   "source": [
    "pipeline_xgbc = imbpipeline(steps = [['smote', SMOTE(sampling_strategy = 1)],\n",
    "                                ['xgbc', XGBClassifier()]])"
   ]
  },
  {
   "cell_type": "code",
   "execution_count": 78,
   "id": "44f13291",
   "metadata": {},
   "outputs": [],
   "source": [
    "param_xgbc = {'xgbc__gamma': [0,0.1,0.2,0.4],\n",
    "              'xgbc__learning_rate': [0.01, 0.1, 0.15],\n",
    "              'xgbc__max_depth': [8, 10],\n",
    "              'xgbc__n_estimators': [100, 500, 1000]}\n",
    "random_search_xgbc = RandomizedSearchCV(estimator=pipeline_xgbc,\n",
    "                           param_distributions=param_xgbc,\n",
    "                           scoring='roc_auc',\n",
    "                           cv=stratified_kfold,\n",
    "                           n_jobs=-1)"
   ]
  },
  {
   "cell_type": "code",
   "execution_count": 79,
   "id": "e5e95420",
   "metadata": {},
   "outputs": [
    {
     "name": "stdout",
     "output_type": "stream",
     "text": [
      "Cross-validation score: 0.8332033688205243\n",
      "Test score: 0.8273024361259655\n"
     ]
    }
   ],
   "source": [
    "random_search_xgbc.fit(X_train, y_train)\n",
    "\n",
    "cv_score_xgbc = random_search_xgbc.best_score_\n",
    "\n",
    "test_xgbc = random_search_xgbc.score(X_test, y_test)\n",
    "print(f'Cross-validation score: {cv_score_xgbc}\\nTest score: {test_xgbc}')"
   ]
  },
  {
   "cell_type": "code",
   "execution_count": 80,
   "id": "84031b97",
   "metadata": {},
   "outputs": [],
   "source": [
    "y_pred_xgbc = random_search_xgbc.predict(X_test)"
   ]
  },
  {
   "cell_type": "code",
   "execution_count": 81,
   "id": "ae68448e",
   "metadata": {},
   "outputs": [
    {
     "data": {
      "text/plain": [
       "0.7275517321553128"
      ]
     },
     "execution_count": 81,
     "metadata": {},
     "output_type": "execute_result"
    }
   ],
   "source": [
    "roc_auc_score(y_test, y_pred_xgbc)"
   ]
  },
  {
   "cell_type": "code",
   "execution_count": 82,
   "id": "75708d57",
   "metadata": {},
   "outputs": [
    {
     "name": "stdout",
     "output_type": "stream",
     "text": [
      "              precision    recall  f1-score   support\n",
      "\n",
      "           0       0.86      0.83      0.85      1035\n",
      "           1       0.58      0.62      0.60       374\n",
      "\n",
      "    accuracy                           0.78      1409\n",
      "   macro avg       0.72      0.73      0.72      1409\n",
      "weighted avg       0.78      0.78      0.78      1409\n",
      "\n"
     ]
    }
   ],
   "source": [
    "print(classification_report(y_test, y_pred_xgbc))"
   ]
  },
  {
   "cell_type": "code",
   "execution_count": null,
   "id": "695f9ee1",
   "metadata": {},
   "outputs": [],
   "source": []
  }
 ],
 "metadata": {
  "kernelspec": {
   "display_name": "Python 3",
   "language": "python",
   "name": "python3"
  },
  "language_info": {
   "codemirror_mode": {
    "name": "ipython",
    "version": 3
   },
   "file_extension": ".py",
   "mimetype": "text/x-python",
   "name": "python",
   "nbconvert_exporter": "python",
   "pygments_lexer": "ipython3",
   "version": "3.8.8"
  }
 },
 "nbformat": 4,
 "nbformat_minor": 5
}
